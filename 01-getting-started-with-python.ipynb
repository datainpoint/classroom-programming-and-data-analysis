{
 "cells": [
  {
   "cell_type": "markdown",
   "metadata": {
    "slideshow": {
     "slide_type": "slide"
    }
   },
   "source": [
    "# Programming and Data Analysis\n",
    "\n",
    "> Getting started with Python\n",
    "\n",
    "Kuo, Yao-Jen <yaojenkuo@ntu.edu.tw> from [DATAINPOINT](https://www.datainpoint.com/)"
   ]
  },
  {
   "cell_type": "code",
   "execution_count": 1,
   "metadata": {
    "slideshow": {
     "slide_type": "skip"
    }
   },
   "outputs": [],
   "source": [
    "import pandas as pd"
   ]
  },
  {
   "cell_type": "markdown",
   "metadata": {
    "slideshow": {
     "slide_type": "slide"
    }
   },
   "source": [
    "## About programming and data analysis"
   ]
  },
  {
   "cell_type": "markdown",
   "metadata": {
    "slideshow": {
     "slide_type": "subslide"
    }
   },
   "source": [
    "## What is programming?\n",
    "\n",
    "> Programming is a sequence of instructions that specifies how to perform a computation. The computation might be something mathematical, such as solving a system of equations, something symbolic, such as searching for and replacing text in a document, or something graphical, like processing an image.\n",
    "\n",
    "Source: [Think Julia: How to Think Like a Computer Scientist](https://benlauwens.github.io/ThinkJulia.jl/latest/book.html)"
   ]
  },
  {
   "cell_type": "markdown",
   "metadata": {
    "slideshow": {
     "slide_type": "subslide"
    }
   },
   "source": [
    "## What is data analysis?\n",
    "\n",
    "> Data analysis is a process of inspecting, cleaning, transforming, and modeling data with the goal of discovering useful information, informing conclusions, and supporting decision-making.\n",
    "\n",
    "Source: <https://en.wikipedia.org/wiki/Data_analysis>"
   ]
  },
  {
   "cell_type": "markdown",
   "metadata": {
    "slideshow": {
     "slide_type": "subslide"
    }
   },
   "source": [
    "## The combination of programming and data analysis: Modern data science\n",
    "\n",
    "![Imgur](https://i.imgur.com/din6Ig6.png)\n",
    "\n",
    "Source: [R for Data Science](https://r4ds.had.co.nz/)"
   ]
  },
  {
   "cell_type": "markdown",
   "metadata": {
    "slideshow": {
     "slide_type": "subslide"
    }
   },
   "source": [
    "## The sarcastic ones\n",
    "\n",
    "![Imgur](https://i.imgur.com/vbczHMF.jpg)\n",
    "\n",
    "Source: <https://twitter.com/cdixon/status/428914681911070720/photo/1>"
   ]
  },
  {
   "cell_type": "markdown",
   "metadata": {
    "slideshow": {
     "slide_type": "subslide"
    }
   },
   "source": [
    "## The serious ones\n",
    "\n",
    "![Imgur](https://i.imgur.com/6u4tw97.png)\n",
    "\n",
    "Source: <http://drewconway.com/>"
   ]
  },
  {
   "cell_type": "markdown",
   "metadata": {
    "slideshow": {
     "slide_type": "subslide"
    }
   },
   "source": [
    "## \"Modern data science\" is indeed a fancy word"
   ]
  },
  {
   "cell_type": "markdown",
   "metadata": {
    "slideshow": {
     "slide_type": "subslide"
    }
   },
   "source": [
    "## What is Chandler Bing's job?\n",
    "\n",
    "![Imgur](https://i.imgur.com/DX7bQvS.png?1)\n",
    "\n",
    "Source: <https://www.warnerbros.com/tv/friends/>"
   ]
  },
  {
   "cell_type": "markdown",
   "metadata": {
    "slideshow": {
     "slide_type": "subslide"
    }
   },
   "source": [
    "![Imgur](https://i.imgur.com/QhZ2FDY.png?2)\n",
    "\n",
    "Source: <https://www.warnerbros.com/tv/friends/>"
   ]
  },
  {
   "cell_type": "markdown",
   "metadata": {
    "slideshow": {
     "slide_type": "subslide"
    }
   },
   "source": [
    "![Imgur](https://i.imgur.com/iZwdP9t.png?5)\n",
    "\n",
    "Source: <https://www.warnerbros.com/tv/friends/>"
   ]
  },
  {
   "cell_type": "markdown",
   "metadata": {
    "slideshow": {
     "slide_type": "slide"
    }
   },
   "source": [
    "## The Python Trivia"
   ]
  },
  {
   "cell_type": "markdown",
   "metadata": {
    "slideshow": {
     "slide_type": "subslide"
    }
   },
   "source": [
    "## Topics to be discussed: Python, Python, and Python\n",
    "\n",
    "- Python programming.\n",
    "- Array computing with NumPy.\n",
    "- DataFrame Wrangling with Pandas.\n",
    "- Data Visualization with Matplotlib.\n",
    "- Web Scraping with Requests and BeautifulSoup4."
   ]
  },
  {
   "cell_type": "markdown",
   "metadata": {
    "slideshow": {
     "slide_type": "subslide"
    }
   },
   "source": [
    "## We will use Python to tackle everything in the pipeline\n",
    "\n",
    "![Imgur](https://i.imgur.com/din6Ig6.png)\n",
    "\n",
    "Source: [R for Data Science](https://r4ds.had.co.nz/)"
   ]
  },
  {
   "cell_type": "markdown",
   "metadata": {
    "slideshow": {
     "slide_type": "subslide"
    }
   },
   "source": [
    "## Why Python? Why not...\n",
    "\n",
    "- R?\n",
    "- Matlab?\n",
    "- Julia?\n",
    "- SAS?\n",
    "- Scala?\n",
    "- ...etc."
   ]
  },
  {
   "cell_type": "markdown",
   "metadata": {
    "slideshow": {
     "slide_type": "subslide"
    }
   },
   "source": [
    "## Let's explore 2 questions in [2021 Kaggle ML & DS Survey](https://www.kaggle.com/c/kaggle-survey-2021)\n",
    "\n",
    "- What programming languages do you use on a regular basis? (Select all that apply)\n",
    "- What programming language would you recommend an aspiring data scientist to learn first?"
   ]
  },
  {
   "cell_type": "code",
   "execution_count": 2,
   "metadata": {
    "slideshow": {
     "slide_type": "skip"
    }
   },
   "outputs": [
    {
     "data": {
      "text/html": [
       "<div>\n",
       "<style scoped>\n",
       "    .dataframe tbody tr th:only-of-type {\n",
       "        vertical-align: middle;\n",
       "    }\n",
       "\n",
       "    .dataframe tbody tr th {\n",
       "        vertical-align: top;\n",
       "    }\n",
       "\n",
       "    .dataframe thead th {\n",
       "        text-align: right;\n",
       "    }\n",
       "</style>\n",
       "<table border=\"1\" class=\"dataframe\">\n",
       "  <thead>\n",
       "    <tr style=\"text-align: right;\">\n",
       "      <th></th>\n",
       "      <th>question_index</th>\n",
       "      <th>question_description</th>\n",
       "      <th>question_type</th>\n",
       "    </tr>\n",
       "  </thead>\n",
       "  <tbody>\n",
       "    <tr>\n",
       "      <th>0</th>\n",
       "      <td>Q1</td>\n",
       "      <td>What is your age (# years)?</td>\n",
       "      <td>multiple choice</td>\n",
       "    </tr>\n",
       "    <tr>\n",
       "      <th>1</th>\n",
       "      <td>Q2</td>\n",
       "      <td>What is your gender?</td>\n",
       "      <td>multiple choice</td>\n",
       "    </tr>\n",
       "    <tr>\n",
       "      <th>2</th>\n",
       "      <td>Q3</td>\n",
       "      <td>In which country do you currently reside?</td>\n",
       "      <td>multiple choice</td>\n",
       "    </tr>\n",
       "    <tr>\n",
       "      <th>3</th>\n",
       "      <td>Q4</td>\n",
       "      <td>What is the highest level of formal education ...</td>\n",
       "      <td>multiple choice</td>\n",
       "    </tr>\n",
       "    <tr>\n",
       "      <th>4</th>\n",
       "      <td>Q5</td>\n",
       "      <td>Select the title most similar to your current ...</td>\n",
       "      <td>multiple choice</td>\n",
       "    </tr>\n",
       "    <tr>\n",
       "      <th>5</th>\n",
       "      <td>Q6</td>\n",
       "      <td>For how many years have you been writing code ...</td>\n",
       "      <td>multiple choice</td>\n",
       "    </tr>\n",
       "    <tr>\n",
       "      <th>6</th>\n",
       "      <td>Q7</td>\n",
       "      <td>What programming languages do you use on a reg...</td>\n",
       "      <td>multiple selection</td>\n",
       "    </tr>\n",
       "    <tr>\n",
       "      <th>7</th>\n",
       "      <td>Q8</td>\n",
       "      <td>What programming language would you recommend ...</td>\n",
       "      <td>multiple choice</td>\n",
       "    </tr>\n",
       "    <tr>\n",
       "      <th>8</th>\n",
       "      <td>Q9</td>\n",
       "      <td>Which of the following integrated development ...</td>\n",
       "      <td>multiple selection</td>\n",
       "    </tr>\n",
       "    <tr>\n",
       "      <th>9</th>\n",
       "      <td>Q10</td>\n",
       "      <td>Which of the following hosted notebook product...</td>\n",
       "      <td>multiple selection</td>\n",
       "    </tr>\n",
       "    <tr>\n",
       "      <th>10</th>\n",
       "      <td>Q11</td>\n",
       "      <td>What type of computing platform do you use mos...</td>\n",
       "      <td>multiple choice</td>\n",
       "    </tr>\n",
       "    <tr>\n",
       "      <th>11</th>\n",
       "      <td>Q12</td>\n",
       "      <td>Which types of specialized hardware do you use...</td>\n",
       "      <td>multiple selection</td>\n",
       "    </tr>\n",
       "    <tr>\n",
       "      <th>12</th>\n",
       "      <td>Q13</td>\n",
       "      <td>Approximately how many times have you used a T...</td>\n",
       "      <td>multiple choice</td>\n",
       "    </tr>\n",
       "    <tr>\n",
       "      <th>13</th>\n",
       "      <td>Q14</td>\n",
       "      <td>What data visualization libraries or tools do ...</td>\n",
       "      <td>multiple selection</td>\n",
       "    </tr>\n",
       "    <tr>\n",
       "      <th>14</th>\n",
       "      <td>Q15</td>\n",
       "      <td>For how many years have you used machine learn...</td>\n",
       "      <td>multiple choice</td>\n",
       "    </tr>\n",
       "    <tr>\n",
       "      <th>15</th>\n",
       "      <td>Q16</td>\n",
       "      <td>Which of the following machine learning framew...</td>\n",
       "      <td>multiple selection</td>\n",
       "    </tr>\n",
       "    <tr>\n",
       "      <th>16</th>\n",
       "      <td>Q17</td>\n",
       "      <td>Which of the following ML algorithms do you us...</td>\n",
       "      <td>multiple selection</td>\n",
       "    </tr>\n",
       "    <tr>\n",
       "      <th>17</th>\n",
       "      <td>Q18</td>\n",
       "      <td>Which categories of computer vision methods do...</td>\n",
       "      <td>multiple selection</td>\n",
       "    </tr>\n",
       "    <tr>\n",
       "      <th>18</th>\n",
       "      <td>Q19</td>\n",
       "      <td>Which of the following natural language proces...</td>\n",
       "      <td>multiple selection</td>\n",
       "    </tr>\n",
       "    <tr>\n",
       "      <th>19</th>\n",
       "      <td>Q20</td>\n",
       "      <td>In what industry is your current employer/cont...</td>\n",
       "      <td>multiple choice</td>\n",
       "    </tr>\n",
       "    <tr>\n",
       "      <th>20</th>\n",
       "      <td>Q21</td>\n",
       "      <td>What is the size of the company where you are ...</td>\n",
       "      <td>multiple choice</td>\n",
       "    </tr>\n",
       "    <tr>\n",
       "      <th>21</th>\n",
       "      <td>Q22</td>\n",
       "      <td>Approximately how many individuals are respons...</td>\n",
       "      <td>multiple choice</td>\n",
       "    </tr>\n",
       "    <tr>\n",
       "      <th>22</th>\n",
       "      <td>Q23</td>\n",
       "      <td>Does your current employer incorporate machine...</td>\n",
       "      <td>multiple choice</td>\n",
       "    </tr>\n",
       "    <tr>\n",
       "      <th>23</th>\n",
       "      <td>Q24</td>\n",
       "      <td>Select any activities that make up an importan...</td>\n",
       "      <td>multiple selection</td>\n",
       "    </tr>\n",
       "    <tr>\n",
       "      <th>24</th>\n",
       "      <td>Q25</td>\n",
       "      <td>What is your current yearly compensation (appr...</td>\n",
       "      <td>multiple choice</td>\n",
       "    </tr>\n",
       "    <tr>\n",
       "      <th>25</th>\n",
       "      <td>Q26</td>\n",
       "      <td>Approximately how much money have you (or your...</td>\n",
       "      <td>multiple choice</td>\n",
       "    </tr>\n",
       "    <tr>\n",
       "      <th>26</th>\n",
       "      <td>Q27A</td>\n",
       "      <td>Which of the following cloud computing platfor...</td>\n",
       "      <td>multiple selection</td>\n",
       "    </tr>\n",
       "    <tr>\n",
       "      <th>27</th>\n",
       "      <td>Q28</td>\n",
       "      <td>Of the cloud platforms that you are familiar w...</td>\n",
       "      <td>multiple choice</td>\n",
       "    </tr>\n",
       "    <tr>\n",
       "      <th>28</th>\n",
       "      <td>Q29A</td>\n",
       "      <td>Do you use any of the following cloud computin...</td>\n",
       "      <td>multiple selection</td>\n",
       "    </tr>\n",
       "    <tr>\n",
       "      <th>29</th>\n",
       "      <td>Q30A</td>\n",
       "      <td>Do you use any of the following data storage p...</td>\n",
       "      <td>multiple selection</td>\n",
       "    </tr>\n",
       "    <tr>\n",
       "      <th>30</th>\n",
       "      <td>Q31A</td>\n",
       "      <td>Do you use any of the following managed machin...</td>\n",
       "      <td>multiple selection</td>\n",
       "    </tr>\n",
       "    <tr>\n",
       "      <th>31</th>\n",
       "      <td>Q32A</td>\n",
       "      <td>Which of the following big data products (rela...</td>\n",
       "      <td>multiple selection</td>\n",
       "    </tr>\n",
       "    <tr>\n",
       "      <th>32</th>\n",
       "      <td>Q33</td>\n",
       "      <td>Which of the following big data products (rela...</td>\n",
       "      <td>multiple choice</td>\n",
       "    </tr>\n",
       "    <tr>\n",
       "      <th>33</th>\n",
       "      <td>Q34A</td>\n",
       "      <td>Which of the following business intelligence t...</td>\n",
       "      <td>multiple selection</td>\n",
       "    </tr>\n",
       "    <tr>\n",
       "      <th>34</th>\n",
       "      <td>Q35</td>\n",
       "      <td>Which of the following business intelligence t...</td>\n",
       "      <td>multiple choice</td>\n",
       "    </tr>\n",
       "    <tr>\n",
       "      <th>35</th>\n",
       "      <td>Q36A</td>\n",
       "      <td>Do you use any automated machine learning tool...</td>\n",
       "      <td>multiple selection</td>\n",
       "    </tr>\n",
       "    <tr>\n",
       "      <th>36</th>\n",
       "      <td>Q37A</td>\n",
       "      <td>Which of the following automated machine learn...</td>\n",
       "      <td>multiple selection</td>\n",
       "    </tr>\n",
       "    <tr>\n",
       "      <th>37</th>\n",
       "      <td>Q38A</td>\n",
       "      <td>Do you use any tools to help manage machine le...</td>\n",
       "      <td>multiple selection</td>\n",
       "    </tr>\n",
       "    <tr>\n",
       "      <th>38</th>\n",
       "      <td>Q39</td>\n",
       "      <td>Where do you publicly share your data analysis...</td>\n",
       "      <td>multiple selection</td>\n",
       "    </tr>\n",
       "    <tr>\n",
       "      <th>39</th>\n",
       "      <td>Q40</td>\n",
       "      <td>On which platforms have you begun or completed...</td>\n",
       "      <td>multiple selection</td>\n",
       "    </tr>\n",
       "    <tr>\n",
       "      <th>40</th>\n",
       "      <td>Q41</td>\n",
       "      <td>What is the primary tool that you use at work ...</td>\n",
       "      <td>multiple choice</td>\n",
       "    </tr>\n",
       "    <tr>\n",
       "      <th>41</th>\n",
       "      <td>Q42</td>\n",
       "      <td>Who/what are your favorite media sources that ...</td>\n",
       "      <td>multiple selection</td>\n",
       "    </tr>\n",
       "    <tr>\n",
       "      <th>42</th>\n",
       "      <td>Q27B</td>\n",
       "      <td>Which of the following cloud computing platfor...</td>\n",
       "      <td>multiple selection</td>\n",
       "    </tr>\n",
       "    <tr>\n",
       "      <th>43</th>\n",
       "      <td>Q29B</td>\n",
       "      <td>In the next 2 years, do you hope to become mor...</td>\n",
       "      <td>multiple selection</td>\n",
       "    </tr>\n",
       "    <tr>\n",
       "      <th>44</th>\n",
       "      <td>Q30B</td>\n",
       "      <td>In the next 2 years, do you hope to become mor...</td>\n",
       "      <td>multiple selection</td>\n",
       "    </tr>\n",
       "    <tr>\n",
       "      <th>45</th>\n",
       "      <td>Q31B</td>\n",
       "      <td>In the next 2 years, do you hope to become mor...</td>\n",
       "      <td>multiple selection</td>\n",
       "    </tr>\n",
       "    <tr>\n",
       "      <th>46</th>\n",
       "      <td>Q32B</td>\n",
       "      <td>Which of the following big data products (rela...</td>\n",
       "      <td>multiple selection</td>\n",
       "    </tr>\n",
       "    <tr>\n",
       "      <th>47</th>\n",
       "      <td>Q34B</td>\n",
       "      <td>Which of the following business intelligence t...</td>\n",
       "      <td>multiple selection</td>\n",
       "    </tr>\n",
       "    <tr>\n",
       "      <th>48</th>\n",
       "      <td>Q36B</td>\n",
       "      <td>Which categories of automated machine learning...</td>\n",
       "      <td>multiple selection</td>\n",
       "    </tr>\n",
       "    <tr>\n",
       "      <th>49</th>\n",
       "      <td>Q37B</td>\n",
       "      <td>Which specific automated machine learning tool...</td>\n",
       "      <td>multiple selection</td>\n",
       "    </tr>\n",
       "    <tr>\n",
       "      <th>50</th>\n",
       "      <td>Q38B</td>\n",
       "      <td>In the next 2 years, do you hope to become mor...</td>\n",
       "      <td>multiple selection</td>\n",
       "    </tr>\n",
       "  </tbody>\n",
       "</table>\n",
       "</div>"
      ],
      "text/plain": [
       "   question_index                               question_description  \\\n",
       "0              Q1                        What is your age (# years)?   \n",
       "1              Q2                               What is your gender?   \n",
       "2              Q3          In which country do you currently reside?   \n",
       "3              Q4  What is the highest level of formal education ...   \n",
       "4              Q5  Select the title most similar to your current ...   \n",
       "5              Q6  For how many years have you been writing code ...   \n",
       "6              Q7  What programming languages do you use on a reg...   \n",
       "7              Q8  What programming language would you recommend ...   \n",
       "8              Q9  Which of the following integrated development ...   \n",
       "9             Q10  Which of the following hosted notebook product...   \n",
       "10            Q11  What type of computing platform do you use mos...   \n",
       "11            Q12  Which types of specialized hardware do you use...   \n",
       "12            Q13  Approximately how many times have you used a T...   \n",
       "13            Q14  What data visualization libraries or tools do ...   \n",
       "14            Q15  For how many years have you used machine learn...   \n",
       "15            Q16  Which of the following machine learning framew...   \n",
       "16            Q17  Which of the following ML algorithms do you us...   \n",
       "17            Q18  Which categories of computer vision methods do...   \n",
       "18            Q19  Which of the following natural language proces...   \n",
       "19            Q20  In what industry is your current employer/cont...   \n",
       "20            Q21  What is the size of the company where you are ...   \n",
       "21            Q22  Approximately how many individuals are respons...   \n",
       "22            Q23  Does your current employer incorporate machine...   \n",
       "23            Q24  Select any activities that make up an importan...   \n",
       "24            Q25  What is your current yearly compensation (appr...   \n",
       "25            Q26  Approximately how much money have you (or your...   \n",
       "26           Q27A  Which of the following cloud computing platfor...   \n",
       "27            Q28  Of the cloud platforms that you are familiar w...   \n",
       "28           Q29A  Do you use any of the following cloud computin...   \n",
       "29           Q30A  Do you use any of the following data storage p...   \n",
       "30           Q31A  Do you use any of the following managed machin...   \n",
       "31           Q32A  Which of the following big data products (rela...   \n",
       "32            Q33  Which of the following big data products (rela...   \n",
       "33           Q34A  Which of the following business intelligence t...   \n",
       "34            Q35  Which of the following business intelligence t...   \n",
       "35           Q36A  Do you use any automated machine learning tool...   \n",
       "36           Q37A  Which of the following automated machine learn...   \n",
       "37           Q38A  Do you use any tools to help manage machine le...   \n",
       "38            Q39  Where do you publicly share your data analysis...   \n",
       "39            Q40  On which platforms have you begun or completed...   \n",
       "40            Q41  What is the primary tool that you use at work ...   \n",
       "41            Q42  Who/what are your favorite media sources that ...   \n",
       "42           Q27B  Which of the following cloud computing platfor...   \n",
       "43           Q29B  In the next 2 years, do you hope to become mor...   \n",
       "44           Q30B  In the next 2 years, do you hope to become mor...   \n",
       "45           Q31B  In the next 2 years, do you hope to become mor...   \n",
       "46           Q32B  Which of the following big data products (rela...   \n",
       "47           Q34B  Which of the following business intelligence t...   \n",
       "48           Q36B  Which categories of automated machine learning...   \n",
       "49           Q37B  Which specific automated machine learning tool...   \n",
       "50           Q38B  In the next 2 years, do you hope to become mor...   \n",
       "\n",
       "         question_type  \n",
       "0      multiple choice  \n",
       "1      multiple choice  \n",
       "2      multiple choice  \n",
       "3      multiple choice  \n",
       "4      multiple choice  \n",
       "5      multiple choice  \n",
       "6   multiple selection  \n",
       "7      multiple choice  \n",
       "8   multiple selection  \n",
       "9   multiple selection  \n",
       "10     multiple choice  \n",
       "11  multiple selection  \n",
       "12     multiple choice  \n",
       "13  multiple selection  \n",
       "14     multiple choice  \n",
       "15  multiple selection  \n",
       "16  multiple selection  \n",
       "17  multiple selection  \n",
       "18  multiple selection  \n",
       "19     multiple choice  \n",
       "20     multiple choice  \n",
       "21     multiple choice  \n",
       "22     multiple choice  \n",
       "23  multiple selection  \n",
       "24     multiple choice  \n",
       "25     multiple choice  \n",
       "26  multiple selection  \n",
       "27     multiple choice  \n",
       "28  multiple selection  \n",
       "29  multiple selection  \n",
       "30  multiple selection  \n",
       "31  multiple selection  \n",
       "32     multiple choice  \n",
       "33  multiple selection  \n",
       "34     multiple choice  \n",
       "35  multiple selection  \n",
       "36  multiple selection  \n",
       "37  multiple selection  \n",
       "38  multiple selection  \n",
       "39  multiple selection  \n",
       "40     multiple choice  \n",
       "41  multiple selection  \n",
       "42  multiple selection  \n",
       "43  multiple selection  \n",
       "44  multiple selection  \n",
       "45  multiple selection  \n",
       "46  multiple selection  \n",
       "47  multiple selection  \n",
       "48  multiple selection  \n",
       "49  multiple selection  \n",
       "50  multiple selection  "
      ]
     },
     "execution_count": 2,
     "metadata": {},
     "output_type": "execute_result"
    }
   ],
   "source": [
    "from ks2021 import KaggleSurvey2021\n",
    "\n",
    "csv_file = \"https://kaggle-ml-ds-survey.s3.ap-northeast-1.amazonaws.com/kaggle-survey-2021/kaggle_survey_2021_responses.csv\"\n",
    "ks = KaggleSurvey2021(csv_file)\n",
    "ks.generate_question_table()"
   ]
  },
  {
   "cell_type": "code",
   "execution_count": 3,
   "metadata": {
    "slideshow": {
     "slide_type": "subslide"
    }
   },
   "outputs": [
    {
     "data": {
      "image/png": "[encoded data removed]",
      "text/plain": [
       "<Figure size 432x288 with 1 Axes>"
      ]
     },
     "metadata": {
      "needs_background": "light"
     },
     "output_type": "display_data"
    }
   ],
   "source": [
    "ks.plot_survey_summary(question_index=\"Q7\", n=1)"
   ]
  },
  {
   "cell_type": "code",
   "execution_count": 4,
   "metadata": {
    "slideshow": {
     "slide_type": "subslide"
    }
   },
   "outputs": [
    {
     "data": {
      "image/png": "[encoded data removed]",
      "text/plain": [
       "<Figure size 432x288 with 1 Axes>"
      ]
     },
     "metadata": {
      "needs_background": "light"
     },
     "output_type": "display_data"
    }
   ],
   "source": [
    "ks.plot_survey_summary(question_index=\"Q8\", n=1)"
   ]
  },
  {
   "cell_type": "markdown",
   "metadata": {
    "slideshow": {
     "slide_type": "subslide"
    }
   },
   "source": [
    "## Let's explore another plot at [Stack Overflow Trends](https://insights.stackoverflow.com/trends?tags=python%2Cr%2Cmatlab%2Cjulia%2Csas%2Cscala)\n",
    "\n",
    "![Imgur](https://i.imgur.com/Vs13bJj.jpg?1)\n",
    "\n",
    "Source: Google Search"
   ]
  },
  {
   "cell_type": "markdown",
   "metadata": {
    "slideshow": {
     "slide_type": "subslide"
    }
   },
   "source": [
    "## The plots speak loud and clear."
   ]
  },
  {
   "cell_type": "markdown",
   "metadata": {
    "slideshow": {
     "slide_type": "subslide"
    }
   },
   "source": [
    "## How to utilize [Stack Overflow](https://stackoverflow.com/questions/1663807/how-to-iterate-through-two-lists-in-parallel)?\n",
    "\n",
    "- The first post is question itself.\n",
    "- The second post, if checked \"Green\", is the answer chose by the initiator.\n",
    "- The third post, is the answer up-voted most by others."
   ]
  },
  {
   "cell_type": "markdown",
   "metadata": {
    "slideshow": {
     "slide_type": "subslide"
    }
   },
   "source": [
    "## Getting ready to program with Python\n",
    "\n",
    "- No installation needed:\n",
    "    - [mybinder.org](https://mybinder.org/v2/gh/jovyans/environment-jovyans-datascience-notebook/HEAD): No authentication needed, but it is inconsistent.\n",
    "    - [Google Colab](https://colab.research.google.com/): Needs Gmail authentication.\n",
    "- Install locally: [Miniconda](https://docs.conda.io/en/latest/miniconda.html)"
   ]
  },
  {
   "cell_type": "markdown",
   "metadata": {
    "slideshow": {
     "slide_type": "subslide"
    }
   },
   "source": [
    "## Python: the gigantic snake and its relatives\n",
    "\n",
    "- Python: the programming language itself.\n",
    "- Anaconda: the data science total solution.\n",
    "- Reticulate: the Python and R interface package."
   ]
  },
  {
   "cell_type": "markdown",
   "metadata": {
    "slideshow": {
     "slide_type": "subslide"
    }
   },
   "source": [
    "## Python is a general-purposed language that is extremely powerful and popular among many applications\n",
    "\n",
    "- Automation\n",
    "- Databases\n",
    "- Analytics\n",
    "- Graphical user interfaces\n",
    "- Machine learning\n",
    "- Web frameworks\n",
    "- Web scraping\n",
    "- ...etc."
   ]
  },
  {
   "cell_type": "markdown",
   "metadata": {
    "slideshow": {
     "slide_type": "subslide"
    }
   },
   "source": [
    "## How does Python do all of that?\n",
    "\n",
    "- Standard libraries.\n",
    "- Third party libraries."
   ]
  },
  {
   "cell_type": "markdown",
   "metadata": {
    "slideshow": {
     "slide_type": "subslide"
    }
   },
   "source": [
    "## What is a standard library?\n",
    "\n",
    "A standard library refers to any library where the latest version of the code is maintained and hosted by the official organization [Python.org](https://www.python.org/) and comes with the installation of Python.\n",
    "\n",
    "Source: <https://docs.python.org/3.9/library/index.html>"
   ]
  },
  {
   "cell_type": "markdown",
   "metadata": {
    "slideshow": {
     "slide_type": "subslide"
    }
   },
   "source": [
    "## What is a third party library?\n",
    "\n",
    "A third party library refers to any library where the latest version of the code is not maintained and hosted by neither ourselves nor the official organization [Python.org](https://www.python.org/)."
   ]
  },
  {
   "cell_type": "markdown",
   "metadata": {
    "slideshow": {
     "slide_type": "subslide"
    }
   },
   "source": [
    "## So which third party library makes Python the go-to choice for data science?\n",
    "\n",
    "- NumPy\n",
    "- Pandas\n",
    "- Matplotlib\n",
    "- Scikit-Learn\n",
    "- TensorFlow\n",
    "- PyTorch\n",
    "- ...etc."
   ]
  },
  {
   "cell_type": "markdown",
   "metadata": {
    "slideshow": {
     "slide_type": "slide"
    }
   },
   "source": [
    "## Setting up a Python Development Environment"
   ]
  },
  {
   "cell_type": "markdown",
   "metadata": {
    "slideshow": {
     "slide_type": "subslide"
    }
   },
   "source": [
    "## Given Python is a general-purposed programming language, there are variuos ways setting up a Python development environement"
   ]
  },
  {
   "cell_type": "markdown",
   "metadata": {
    "slideshow": {
     "slide_type": "subslide"
    }
   },
   "source": [
    "## It is a mix-and-match challenge\n",
    "\n",
    "- The operating system.\n",
    "- The Python interpreter.\n",
    "- The Integrated Development Environment.\n",
    "- The package/environment manager."
   ]
  },
  {
   "cell_type": "markdown",
   "metadata": {
    "slideshow": {
     "slide_type": "subslide"
    }
   },
   "source": [
    "## Even among data analysts, everyone has its own favorite flavour\n",
    "\n",
    "![](https://media.giphy.com/media/cCEt1ShfzOa3u/giphy.gif)\n",
    "\n",
    "Source: <https://giphy.com/>"
   ]
  },
  {
   "cell_type": "markdown",
   "metadata": {
    "slideshow": {
     "slide_type": "subslide"
    }
   },
   "source": [
    "## The best practice so far for a programming analyst is Python interpreter + Jupyter\n",
    "\n",
    "As known as the \"Notebook-based\" solution or the \"Jupyter ecosystem\"."
   ]
  },
  {
   "cell_type": "markdown",
   "metadata": {
    "slideshow": {
     "slide_type": "subslide"
    }
   },
   "source": [
    "## When you are more familiar with Python, learn advanced topics then choose your own flavor\n",
    "\n",
    "- Path variables.\n",
    "- Library management.\n",
    "- Virtual environment.\n",
    "- Deployment."
   ]
  },
  {
   "cell_type": "markdown",
   "metadata": {
    "slideshow": {
     "slide_type": "subslide"
    }
   },
   "source": [
    "## Critical elements of writing/running a Python program\n",
    "\n",
    "- Text editor.\n",
    "- Terminal.\n",
    "- Python interpreter.\n",
    "- Integrated development environment(IDE)."
   ]
  },
  {
   "cell_type": "markdown",
   "metadata": {
    "slideshow": {
     "slide_type": "subslide"
    }
   },
   "source": [
    "## A tour of planet Jupyter\n",
    "\n",
    "- [mybinder.org](https://mybinder.org/v2/gh/jovyans/environment-jovyans-datascience-notebook/HEAD).\n",
    "- `/tree` for classic Jupyter Notebook.\n",
    "- `/lab` for Jupyter Lab."
   ]
  },
  {
   "cell_type": "markdown",
   "metadata": {
    "slideshow": {
     "slide_type": "subslide"
    }
   },
   "source": [
    "## At the homepage of your Jupyter Notebook Server\n",
    "\n",
    "- New > Text File.\n",
    "- New > Terminal.\n",
    "- New > Terminal > Type `python --version` then hit Enter.\n",
    "- New > Notebook."
   ]
  },
  {
   "cell_type": "markdown",
   "metadata": {
    "slideshow": {
     "slide_type": "subslide"
    }
   },
   "source": [
    "## A few Python programs to try on first\n",
    "\n",
    "- Hello, world!\n",
    "- The Zen of Python."
   ]
  },
  {
   "cell_type": "markdown",
   "metadata": {
    "slideshow": {
     "slide_type": "subslide"
    }
   },
   "source": [
    "## Hello, world!"
   ]
  },
  {
   "cell_type": "code",
   "execution_count": 5,
   "metadata": {
    "slideshow": {
     "slide_type": "-"
    }
   },
   "outputs": [
    {
     "name": "stdout",
     "output_type": "stream",
     "text": [
      "Hello, world!\n"
     ]
    }
   ],
   "source": [
    "print(\"Hello, world!\")"
   ]
  },
  {
   "cell_type": "markdown",
   "metadata": {
    "slideshow": {
     "slide_type": "subslide"
    }
   },
   "source": [
    "## Zen of Python\n",
    "\n",
    "Long time Pythoneer [Tim Peters](https://en.wikipedia.org/wiki/Tim_Peters_(software_engineer)) succinctly channels the BDFL's guiding principles for Python's design into 20 aphorisms, only 19 of which have been written down."
   ]
  },
  {
   "cell_type": "code",
   "execution_count": 6,
   "metadata": {
    "slideshow": {
     "slide_type": "subslide"
    }
   },
   "outputs": [
    {
     "name": "stdout",
     "output_type": "stream",
     "text": [
      "The Zen of Python, by Tim Peters\n",
      "\n",
      "Beautiful is better than ugly.\n",
      "Explicit is better than implicit.\n",
      "Simple is better than complex.\n",
      "Complex is better than complicated.\n",
      "Flat is better than nested.\n",
      "Sparse is better than dense.\n",
      "Readability counts.\n",
      "Special cases aren't special enough to break the rules.\n",
      "Although practicality beats purity.\n",
      "Errors should never pass silently.\n",
      "Unless explicitly silenced.\n",
      "In the face of ambiguity, refuse the temptation to guess.\n",
      "There should be one-- and preferably only one --obvious way to do it.\n",
      "Although that way may not be obvious at first unless you're Dutch.\n",
      "Now is better than never.\n",
      "Although never is often better than *right* now.\n",
      "If the implementation is hard to explain, it's a bad idea.\n",
      "If the implementation is easy to explain, it may be a good idea.\n",
      "Namespaces are one honking great idea -- let's do more of those!\n"
     ]
    }
   ],
   "source": [
    "import this"
   ]
  },
  {
   "cell_type": "markdown",
   "metadata": {
    "slideshow": {
     "slide_type": "subslide"
    }
   },
   "source": [
    "## My favorite one would be:\n",
    "\n",
    "> Now is better than never.\n",
    "\n",
    "How about yours?"
   ]
  },
  {
   "cell_type": "markdown",
   "metadata": {
    "slideshow": {
     "slide_type": "slide"
    }
   },
   "source": [
    "## Functions"
   ]
  },
  {
   "cell_type": "markdown",
   "metadata": {
    "slideshow": {
     "slide_type": "subslide"
    }
   },
   "source": [
    "## What is `print()` in our previous example?\n",
    "\n",
    "`print()` is one of the so-called **built-in** functions in Python."
   ]
  },
  {
   "cell_type": "markdown",
   "metadata": {
    "slideshow": {
     "slide_type": "subslide"
    }
   },
   "source": [
    "## What is a function\n",
    "\n",
    "A function is a named sequence of statements that performs a computation, either mathematical, symbolic, or graphical. When we define a function, we specify the name and the sequence of statements. Later, we can call the function by name."
   ]
  },
  {
   "cell_type": "markdown",
   "metadata": {
    "slideshow": {
     "slide_type": "subslide"
    }
   },
   "source": [
    "## How do we analyze a function?\n",
    "\n",
    "- function name.\n",
    "- inputs and parameters, if any.\n",
    "- sequence of statements in a code block belongs to the function itself.\n",
    "- outputs, if any."
   ]
  },
  {
   "cell_type": "markdown",
   "metadata": {
    "slideshow": {
     "slide_type": "subslide"
    }
   },
   "source": [
    "## Take bubble tea shop for instance\n",
    "\n",
    "![Imgur](https://i.imgur.com/6gpJebm.jpg?1)\n",
    "\n",
    "Source: Google Search"
   ]
  },
  {
   "cell_type": "markdown",
   "metadata": {
    "slideshow": {
     "slide_type": "subslide"
    }
   },
   "source": [
    "## What is a built-in function?\n",
    "\n",
    "A pre-defined function, we can call the function by name without defining it."
   ]
  },
  {
   "cell_type": "markdown",
   "metadata": {
    "slideshow": {
     "slide_type": "subslide"
    }
   },
   "source": [
    "## How many built-in functions are available for us?\n",
    "\n",
    "- `print()`\n",
    "- `help()`\n",
    "- `type()`\n",
    "- ...etc.\n",
    "\n",
    "Source: https://docs.python.org/3/library/functions.html"
   ]
  },
  {
   "cell_type": "markdown",
   "metadata": {
    "slideshow": {
     "slide_type": "subslide"
    }
   },
   "source": [
    "## Get HELP with `help()`"
   ]
  },
  {
   "cell_type": "code",
   "execution_count": 7,
   "metadata": {
    "slideshow": {
     "slide_type": "subslide"
    }
   },
   "outputs": [
    {
     "name": "stdout",
     "output_type": "stream",
     "text": [
      "Help on built-in function print in module builtins:\n",
      "\n",
      "print(...)\n",
      "    print(value, ..., sep=' ', end='\\n', file=sys.stdout, flush=False)\n",
      "    \n",
      "    Prints the values to a stream, or to sys.stdout by default.\n",
      "    Optional keyword arguments:\n",
      "    file:  a file-like object (stream); defaults to the current sys.stdout.\n",
      "    sep:   string inserted between values, default a space.\n",
      "    end:   string appended after the last value, default a newline.\n",
      "    flush: whether to forcibly flush the stream.\n",
      "\n"
     ]
    }
   ],
   "source": [
    "help(print)"
   ]
  },
  {
   "cell_type": "code",
   "execution_count": 8,
   "metadata": {
    "slideshow": {
     "slide_type": "subslide"
    }
   },
   "outputs": [
    {
     "name": "stdout",
     "output_type": "stream",
     "text": [
      "Help on class type in module builtins:\n",
      "\n",
      "class type(object)\n",
      " |  type(object_or_name, bases, dict)\n",
      " |  type(object) -> the object's type\n",
      " |  type(name, bases, dict) -> a new type\n",
      " |  \n",
      " |  Methods defined here:\n",
      " |  \n",
      " |  __call__(self, /, *args, **kwargs)\n",
      " |      Call self as a function.\n",
      " |  \n",
      " |  __delattr__(self, name, /)\n",
      " |      Implement delattr(self, name).\n",
      " |  \n",
      " |  __dir__(self, /)\n",
      " |      Specialized __dir__ implementation for types.\n",
      " |  \n",
      " |  __getattribute__(self, name, /)\n",
      " |      Return getattr(self, name).\n",
      " |  \n",
      " |  __init__(self, /, *args, **kwargs)\n",
      " |      Initialize self.  See help(type(self)) for accurate signature.\n",
      " |  \n",
      " |  __instancecheck__(self, instance, /)\n",
      " |      Check if an object is an instance.\n",
      " |  \n",
      " |  __repr__(self, /)\n",
      " |      Return repr(self).\n",
      " |  \n",
      " |  __setattr__(self, name, value, /)\n",
      " |      Implement setattr(self, name, value).\n",
      " |  \n",
      " |  __sizeof__(self, /)\n",
      " |      Return memory consumption of the type object.\n",
      " |  \n",
      " |  __subclasscheck__(self, subclass, /)\n",
      " |      Check if a class is a subclass.\n",
      " |  \n",
      " |  __subclasses__(self, /)\n",
      " |      Return a list of immediate subclasses.\n",
      " |  \n",
      " |  mro(self, /)\n",
      " |      Return a type's method resolution order.\n",
      " |  \n",
      " |  ----------------------------------------------------------------------\n",
      " |  Class methods defined here:\n",
      " |  \n",
      " |  __prepare__(...)\n",
      " |      __prepare__() -> dict\n",
      " |      used to create the namespace for the class statement\n",
      " |  \n",
      " |  ----------------------------------------------------------------------\n",
      " |  Static methods defined here:\n",
      " |  \n",
      " |  __new__(*args, **kwargs)\n",
      " |      Create and return a new object.  See help(type) for accurate signature.\n",
      " |  \n",
      " |  ----------------------------------------------------------------------\n",
      " |  Data descriptors defined here:\n",
      " |  \n",
      " |  __abstractmethods__\n",
      " |  \n",
      " |  __dict__\n",
      " |  \n",
      " |  __text_signature__\n",
      " |  \n",
      " |  ----------------------------------------------------------------------\n",
      " |  Data and other attributes defined here:\n",
      " |  \n",
      " |  __base__ = <class 'object'>\n",
      " |      The base class of the class hierarchy.\n",
      " |      \n",
      " |      When called, it accepts no arguments and returns a new featureless\n",
      " |      instance that has no instance attributes and cannot be given any.\n",
      " |  \n",
      " |  \n",
      " |  __bases__ = (<class 'object'>,)\n",
      " |  \n",
      " |  __basicsize__ = 880\n",
      " |  \n",
      " |  __dictoffset__ = 264\n",
      " |  \n",
      " |  __flags__ = 2148293632\n",
      " |  \n",
      " |  __itemsize__ = 40\n",
      " |  \n",
      " |  __mro__ = (<class 'type'>, <class 'object'>)\n",
      " |  \n",
      " |  __weakrefoffset__ = 368\n",
      "\n"
     ]
    }
   ],
   "source": [
    "help(type)"
   ]
  },
  {
   "cell_type": "markdown",
   "metadata": {
    "slideshow": {
     "slide_type": "subslide"
    }
   },
   "source": [
    "## We can also `help()` on `help()`"
   ]
  },
  {
   "cell_type": "code",
   "execution_count": 9,
   "metadata": {},
   "outputs": [
    {
     "name": "stdout",
     "output_type": "stream",
     "text": [
      "Help on _Helper in module _sitebuiltins object:\n",
      "\n",
      "class _Helper(builtins.object)\n",
      " |  Define the builtin 'help'.\n",
      " |  \n",
      " |  This is a wrapper around pydoc.help that provides a helpful message\n",
      " |  when 'help' is typed at the Python interactive prompt.\n",
      " |  \n",
      " |  Calling help() at the Python prompt starts an interactive help session.\n",
      " |  Calling help(thing) prints help for the python object 'thing'.\n",
      " |  \n",
      " |  Methods defined here:\n",
      " |  \n",
      " |  __call__(self, *args, **kwds)\n",
      " |      Call self as a function.\n",
      " |  \n",
      " |  __repr__(self)\n",
      " |      Return repr(self).\n",
      " |  \n",
      " |  ----------------------------------------------------------------------\n",
      " |  Data descriptors defined here:\n",
      " |  \n",
      " |  __dict__\n",
      " |      dictionary for instance variables (if defined)\n",
      " |  \n",
      " |  __weakref__\n",
      " |      list of weak references to the object (if defined)\n",
      "\n"
     ]
    }
   ],
   "source": [
    "help(help)"
   ]
  },
  {
   "cell_type": "markdown",
   "metadata": {
    "slideshow": {
     "slide_type": "subslide"
    }
   },
   "source": [
    "## Besides built-in functions or library-powered functions, we sometimes need to self-define our own functions\n",
    "\n",
    "- `def` the name of our function\n",
    "- `return` the output of our function\n",
    "\n",
    "```python\n",
    "def function_name(INPUTS: type, PARAMETERS: type, ...) -> type:\n",
    "    \"\"\"\n",
    "    docstring: print documentation when help() is called\n",
    "    \"\"\"\n",
    "    # sequence of statements\n",
    "    return OUTPUTS\n",
    "```"
   ]
  },
  {
   "cell_type": "code",
   "execution_count": 10,
   "metadata": {
    "slideshow": {
     "slide_type": "subslide"
    }
   },
   "outputs": [
    {
     "name": "stdout",
     "output_type": "stream",
     "text": [
      "Help on function add in module __main__:\n",
      "\n",
      "add(x: int, y: int) -> int\n",
      "    Equivalent to x + y\n",
      "\n"
     ]
    }
   ],
   "source": [
    "def add(x: int, y: int) -> int:\n",
    "    \"\"\"\n",
    "    Equivalent to x + y\n",
    "    \"\"\"\n",
    "    return x + y\n",
    "\n",
    "help(add)"
   ]
  },
  {
   "cell_type": "markdown",
   "metadata": {
    "slideshow": {
     "slide_type": "subslide"
    }
   },
   "source": [
    "## Call the function by name after defining it"
   ]
  },
  {
   "cell_type": "code",
   "execution_count": 11,
   "metadata": {},
   "outputs": [
    {
     "data": {
      "text/plain": [
       "11"
      ]
     },
     "execution_count": 11,
     "metadata": {},
     "output_type": "execute_result"
    }
   ],
   "source": [
    "add(5, 6)"
   ]
  },
  {
   "cell_type": "markdown",
   "metadata": {
    "slideshow": {
     "slide_type": "slide"
    }
   },
   "source": [
    "## Arithmetic Operators in Python"
   ]
  },
  {
   "cell_type": "markdown",
   "metadata": {
    "slideshow": {
     "slide_type": "subslide"
    }
   },
   "source": [
    "## Symbols that represent computations\n",
    "\n",
    "- `+`, `-`, `*`, `/` are quite straight-forward.\n",
    "- `**` for exponentiation.\n",
    "- `%` for remainder.\n",
    "- `//` for floor-divide."
   ]
  },
  {
   "cell_type": "markdown",
   "metadata": {
    "slideshow": {
     "slide_type": "subslide"
    }
   },
   "source": [
    "## When an expression contains more than one operator, the order of evaluation depends on the operator precedence\n",
    "\n",
    "1. Parentheses have the highest precedence.\n",
    "2. Exponentiation has the next highest precedence.\n",
    "3. Multiplication and division have higher precedence than addition and subtraction.\n",
    "4. Operators with the same precedence are evaluated from left to right."
   ]
  },
  {
   "cell_type": "markdown",
   "metadata": {
    "slideshow": {
     "slide_type": "subslide"
    }
   },
   "source": [
    "## Converting Fahrenheit to Celsius\n",
    "\n",
    "\\begin{equation}\n",
    "\\text{Celsius}(^{\\circ}C) = (Fahrenheit(^{\\circ}F) - 32) \\times \\frac{5}{9}\n",
    "\\end{equation}"
   ]
  },
  {
   "cell_type": "code",
   "execution_count": 12,
   "metadata": {
    "slideshow": {
     "slide_type": "subslide"
    }
   },
   "outputs": [
    {
     "name": "stdout",
     "output_type": "stream",
     "text": [
      "0.0\n",
      "100.0\n"
     ]
    }
   ],
   "source": [
    "def from_fahrenheit_to_celsius(x: int) -> float:\n",
    "    out = (x - 32) * 5/9\n",
    "    return out\n",
    "\n",
    "print(from_fahrenheit_to_celsius(32))\n",
    "print(from_fahrenheit_to_celsius(212))"
   ]
  },
  {
   "cell_type": "markdown",
   "metadata": {
    "slideshow": {
     "slide_type": "subslide"
    }
   },
   "source": [
    "## How to properly use functions?\n",
    "\n",
    "- Using arguments to adjust the output of a defined function.\n",
    "- Differentiate function versus method.\n",
    "- Be aware of the update mechanism."
   ]
  },
  {
   "cell_type": "markdown",
   "metadata": {
    "slideshow": {
     "slide_type": "subslide"
    }
   },
   "source": [
    "## `sorted()` function takes a `bool` argument for `reverse` parameter"
   ]
  },
  {
   "cell_type": "code",
   "execution_count": 13,
   "metadata": {
    "slideshow": {
     "slide_type": "-"
    }
   },
   "outputs": [
    {
     "name": "stdout",
     "output_type": "stream",
     "text": [
      "[11, 7, 5, 3, 2]\n",
      "[2, 3, 5, 7, 11]\n"
     ]
    }
   ],
   "source": [
    "list_to_be_sorted = [11, 5, 7, 2, 3]\n",
    "print(sorted(list_to_be_sorted, reverse=True))\n",
    "print(sorted(list_to_be_sorted))"
   ]
  },
  {
   "cell_type": "markdown",
   "metadata": {
    "slideshow": {
     "slide_type": "subslide"
    }
   },
   "source": [
    "## Different syntax\n",
    "\n",
    "```python\n",
    "function_name(OBJECT, ARGUMENTS) # function\n",
    "OBJECT.method_name(ARGUMENTS)    # method\n",
    "```"
   ]
  },
  {
   "cell_type": "markdown",
   "metadata": {
    "slideshow": {
     "slide_type": "subslide"
    }
   },
   "source": [
    "## `list` has a method `sort()` works like `sorted()` function"
   ]
  },
  {
   "cell_type": "code",
   "execution_count": 14,
   "metadata": {
    "slideshow": {
     "slide_type": "subslide"
    }
   },
   "outputs": [
    {
     "name": "stdout",
     "output_type": "stream",
     "text": [
      "[2, 3, 5, 7, 11]\n",
      "[2, 3, 5, 7, 11]\n"
     ]
    }
   ],
   "source": [
    "list_to_be_sorted = [11, 5, 7, 2, 3]\n",
    "print(sorted(list_to_be_sorted))\n",
    "list_to_be_sorted.sort()\n",
    "print(list_to_be_sorted)"
   ]
  },
  {
   "cell_type": "markdown",
   "metadata": {
    "slideshow": {
     "slide_type": "subslide"
    }
   },
   "source": [
    "## How is the `list_to_be_sorted` being updated?"
   ]
  },
  {
   "cell_type": "code",
   "execution_count": 15,
   "metadata": {
    "slideshow": {
     "slide_type": "-"
    }
   },
   "outputs": [
    {
     "name": "stdout",
     "output_type": "stream",
     "text": [
      "[2, 3, 5, 7, 11]\n"
     ]
    }
   ],
   "source": [
    "# update through return\n",
    "list_to_be_sorted = [11, 5, 7, 2, 3]\n",
    "sorted_list = sorted(list_to_be_sorted)\n",
    "print(sorted_list)"
   ]
  },
  {
   "cell_type": "code",
   "execution_count": 16,
   "metadata": {
    "slideshow": {
     "slide_type": "subslide"
    }
   },
   "outputs": [
    {
     "name": "stdout",
     "output_type": "stream",
     "text": [
      "[2, 3, 5, 7, 11]\n"
     ]
    }
   ],
   "source": [
    "# update through change of state\n",
    "list_to_be_sorted = [11, 5, 7, 2, 3]\n",
    "list_to_be_sorted.sort()\n",
    "print(list_to_be_sorted)"
   ]
  }
 ],
 "metadata": {
  "celltoolbar": "Slideshow",
  "kernelspec": {
   "display_name": "Python 3.9",
   "language": "python",
   "name": "python39"
  },
  "language_info": {
   "codemirror_mode": {
    "name": "ipython",
    "version": 3
   },
   "file_extension": ".py",
   "mimetype": "text/x-python",
   "name": "python",
   "nbconvert_exporter": "python",
   "pygments_lexer": "ipython3",
   "version": "3.9.7"
  }
 },
 "nbformat": 4,
 "nbformat_minor": 2
}
