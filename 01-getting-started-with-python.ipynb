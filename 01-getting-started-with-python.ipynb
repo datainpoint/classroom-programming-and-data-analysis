{
 "cells": [
  {
   "cell_type": "markdown",
   "metadata": {
    "slideshow": {
     "slide_type": "slide"
    }
   },
   "source": [
    "# Programming and Data Analysis\n",
    "\n",
    "> Getting started with Python\n",
    "\n",
    "Kuo, Yao-Jen <yaojenkuo@ntu.edu.tw> from [DATAINPOINT](https://www.datainpoint.com/)"
   ]
  },
  {
   "cell_type": "code",
   "execution_count": 1,
   "metadata": {
    "slideshow": {
     "slide_type": "skip"
    }
   },
   "outputs": [],
   "source": [
    "import pandas as pd"
   ]
  },
  {
   "cell_type": "markdown",
   "metadata": {
    "slideshow": {
     "slide_type": "slide"
    }
   },
   "source": [
    "## About programming and data analysis"
   ]
  },
  {
   "cell_type": "markdown",
   "metadata": {
    "slideshow": {
     "slide_type": "subslide"
    }
   },
   "source": [
    "## What is programming?\n",
    "\n",
    "> Programming is a sequence of instructions that specifies how to perform a computation. The computation might be something mathematical, such as solving a system of equations, something symbolic, such as searching for and replacing text in a document, or something graphical, like processing an image.\n",
    "\n",
    "Source: [Think Julia: How to Think Like a Computer Scientist](https://benlauwens.github.io/ThinkJulia.jl/latest/book.html)"
   ]
  },
  {
   "cell_type": "markdown",
   "metadata": {
    "slideshow": {
     "slide_type": "subslide"
    }
   },
   "source": [
    "## What is data analysis?\n",
    "\n",
    "> Data analysis is a process of inspecting, cleaning, transforming, and modeling data with the goal of discovering useful information, informing conclusions, and supporting decision-making.\n",
    "\n",
    "Source: <https://en.wikipedia.org/wiki/Data_analysis>"
   ]
  },
  {
   "cell_type": "markdown",
   "metadata": {
    "slideshow": {
     "slide_type": "subslide"
    }
   },
   "source": [
    "## The combination of programming and data analysis: Modern data science\n",
    "\n",
    "![Imgur](https://i.imgur.com/din6Ig6.png)\n",
    "\n",
    "Source: [R for Data Science](https://r4ds.had.co.nz/)"
   ]
  },
  {
   "cell_type": "markdown",
   "metadata": {
    "slideshow": {
     "slide_type": "subslide"
    }
   },
   "source": [
    "## The sarcastic ones\n",
    "\n",
    "![Imgur](https://i.imgur.com/vbczHMF.jpg)\n",
    "\n",
    "Source: <https://twitter.com/cdixon/status/428914681911070720/photo/1>"
   ]
  },
  {
   "cell_type": "markdown",
   "metadata": {
    "slideshow": {
     "slide_type": "subslide"
    }
   },
   "source": [
    "## The serious ones\n",
    "\n",
    "![Imgur](https://i.imgur.com/6u4tw97.png)\n",
    "\n",
    "Source: <http://drewconway.com/>"
   ]
  },
  {
   "cell_type": "markdown",
   "metadata": {
    "slideshow": {
     "slide_type": "subslide"
    }
   },
   "source": [
    "## \"Modern data science\" is indeed a fancy word."
   ]
  },
  {
   "cell_type": "markdown",
   "metadata": {
    "slideshow": {
     "slide_type": "subslide"
    }
   },
   "source": [
    "## What is Chandler Bing's job?\n",
    "\n",
    "![Imgur](https://i.imgur.com/DX7bQvS.png?1)\n",
    "\n",
    "Source: <https://www.warnerbros.com/tv/friends/>"
   ]
  },
  {
   "cell_type": "markdown",
   "metadata": {
    "slideshow": {
     "slide_type": "subslide"
    }
   },
   "source": [
    "![Imgur](https://i.imgur.com/QhZ2FDY.png?2)\n",
    "\n",
    "Source: <https://www.warnerbros.com/tv/friends/>"
   ]
  },
  {
   "cell_type": "markdown",
   "metadata": {
    "slideshow": {
     "slide_type": "subslide"
    }
   },
   "source": [
    "![Imgur](https://i.imgur.com/iZwdP9t.png?5)\n",
    "\n",
    "Source: <https://www.warnerbros.com/tv/friends/>"
   ]
  },
  {
   "cell_type": "markdown",
   "metadata": {
    "slideshow": {
     "slide_type": "slide"
    }
   },
   "source": [
    "## The Python Trivia"
   ]
  },
  {
   "cell_type": "markdown",
   "metadata": {
    "slideshow": {
     "slide_type": "subslide"
    }
   },
   "source": [
    "## Topics to be discussed: Python, Python, and Python\n",
    "\n",
    "- Python programming.\n",
    "- Array computing with NumPy.\n",
    "- DataFrame Wrangling with Pandas.\n",
    "- Data Visualization with Matplotlib.\n",
    "- Web Scraping with Requests and BeautifulSoup4."
   ]
  },
  {
   "cell_type": "markdown",
   "metadata": {
    "slideshow": {
     "slide_type": "subslide"
    }
   },
   "source": [
    "## We will use Python to tackle everything in the pipeline\n",
    "\n",
    "![Imgur](https://i.imgur.com/din6Ig6.png)\n",
    "\n",
    "Source: [R for Data Science](https://r4ds.had.co.nz/)"
   ]
  },
  {
   "cell_type": "markdown",
   "metadata": {
    "slideshow": {
     "slide_type": "subslide"
    }
   },
   "source": [
    "## Why Python? Why not...\n",
    "\n",
    "- R?\n",
    "- Matlab?\n",
    "- Julia?\n",
    "- SAS?\n",
    "- Scala?\n",
    "- ...etc."
   ]
  },
  {
   "cell_type": "markdown",
   "metadata": {
    "slideshow": {
     "slide_type": "subslide"
    }
   },
   "source": [
    "## Let's explore 2 questions in [2020 Kaggle ML & DS Survey](https://www.kaggle.com/c/kaggle-survey-2020)\n",
    "\n",
    "- What programming languages do you use on a regular basis? (Select all that apply)\n",
    "- What programming language would you recommend an aspiring data scientist to learn first?"
   ]
  },
  {
   "cell_type": "code",
   "execution_count": 2,
   "metadata": {
    "slideshow": {
     "slide_type": "skip"
    }
   },
   "outputs": [],
   "source": [
    "from ks2020 import KaggleSurvey2020\n",
    "\n",
    "csv_file = \"https://kaggle-ml-ds-survey.s3-ap-northeast-1.amazonaws.com/kaggle-survey-2020/kaggle_survey_2020_responses.csv\"\n",
    "ks = KaggleSurvey2020(csv_file)"
   ]
  },
  {
   "cell_type": "code",
   "execution_count": 3,
   "metadata": {
    "slideshow": {
     "slide_type": "subslide"
    }
   },
   "outputs": [
    {
     "name": "stdout",
     "output_type": "stream",
     "text": [
      "What programming languages do you use on a regular basis? (Select all that apply)\n",
      "Too many categories, only showing the top 10.\n"
     ]
    },
    {
     "data": {
      "image/png": "[encoded data removed]",
      "text/plain": [
       "<Figure size 432x288 with 1 Axes>"
      ]
     },
     "metadata": {
      "needs_background": "light"
     },
     "output_type": "display_data"
    }
   ],
   "source": [
    "ks.plot_summary('Q7')"
   ]
  },
  {
   "cell_type": "code",
   "execution_count": 4,
   "metadata": {
    "slideshow": {
     "slide_type": "subslide"
    }
   },
   "outputs": [
    {
     "name": "stdout",
     "output_type": "stream",
     "text": [
      "What programming language would you recommend an aspiring data scientist to learn first?\n",
      "Too many categories, only showing the top 10.\n"
     ]
    },
    {
     "data": {
      "image/png": "[encoded data removed]",
      "text/plain": [
       "<Figure size 432x288 with 1 Axes>"
      ]
     },
     "metadata": {
      "needs_background": "light"
     },
     "output_type": "display_data"
    }
   ],
   "source": [
    "ks.plot_summary('Q8')"
   ]
  },
  {
   "cell_type": "markdown",
   "metadata": {
    "slideshow": {
     "slide_type": "subslide"
    }
   },
   "source": [
    "## Let's explore another plot at [Stack Overflow Trends](https://insights.stackoverflow.com/trends?tags=python%2Cr%2Cmatlab%2Cjulia%2Csas%2Cscala)\n",
    "\n",
    "![Imgur](https://i.imgur.com/Vs13bJj.jpg?1)\n",
    "\n",
    "Source: Google Search"
   ]
  },
  {
   "cell_type": "markdown",
   "metadata": {
    "slideshow": {
     "slide_type": "subslide"
    }
   },
   "source": [
    "## The plots speak loud and clear."
   ]
  },
  {
   "cell_type": "markdown",
   "metadata": {
    "slideshow": {
     "slide_type": "subslide"
    }
   },
   "source": [
    "## How to utilize [Stack Overflow](https://stackoverflow.com/questions/1663807/how-to-iterate-through-two-lists-in-parallel)?\n",
    "\n",
    "- The first post is question itself.\n",
    "- The second post, if checked \"Green\", is the answer chose by the initiator.\n",
    "- The third post, is the answer up-voted most by others."
   ]
  },
  {
   "cell_type": "markdown",
   "metadata": {
    "slideshow": {
     "slide_type": "subslide"
    }
   },
   "source": [
    "## Getting ready to program with Python\n",
    "\n",
    "- No installation needed:\n",
    "    - [Binder](https://mybinder.org/)\n",
    "    - [Google Colab](https://colab.research.google.com/)\n",
    "- Install locally: [Miniconda](https://docs.conda.io/en/latest/miniconda.html)"
   ]
  },
  {
   "cell_type": "markdown",
   "metadata": {
    "slideshow": {
     "slide_type": "subslide"
    }
   },
   "source": [
    "## Python: the Monty Python British surreal comedy troupe\n",
    "\n",
    "![](https://media.giphy.com/media/ezR4SY7GQQ6fC/giphy.gif)\n",
    "\n",
    "Source: <https://giphy.com/>"
   ]
  },
  {
   "cell_type": "markdown",
   "metadata": {
    "slideshow": {
     "slide_type": "subslide"
    }
   },
   "source": [
    "## Python: the programming language\n",
    "\n",
    "> Python is a clear and powerful object-oriented programming language.\n",
    "\n",
    "Source: <https://www.python.org/>"
   ]
  },
  {
   "cell_type": "markdown",
   "metadata": {
    "slideshow": {
     "slide_type": "subslide"
    }
   },
   "source": [
    "## Python: the gigantic snake and its relatives\n",
    "\n",
    "- Python: the programming language itself.\n",
    "- Anaconda: the data science total solution.\n",
    "- Reticulate: the Python and R interface package."
   ]
  },
  {
   "cell_type": "markdown",
   "metadata": {
    "slideshow": {
     "slide_type": "subslide"
    }
   },
   "source": [
    "## Python is a general-purposed language that is extremely powerful and popular among many applications\n",
    "\n",
    "- Automation\n",
    "- Databases\n",
    "- Analytics\n",
    "- Graphical user interfaces\n",
    "- Machine learning\n",
    "- Web frameworks\n",
    "- Web scraping\n",
    "- ...etc."
   ]
  },
  {
   "cell_type": "markdown",
   "metadata": {
    "slideshow": {
     "slide_type": "subslide"
    }
   },
   "source": [
    "## How does Python do all of that?\n",
    "\n",
    "- Standard libraries.\n",
    "- Third party libraries."
   ]
  },
  {
   "cell_type": "markdown",
   "metadata": {
    "slideshow": {
     "slide_type": "subslide"
    }
   },
   "source": [
    "## What is a standard library?\n",
    "\n",
    "A standard library refers to any library where the latest version of the code is maintained and hosted by the official organization [Python.org](https://www.python.org/) and comes with the installation of Python.\n",
    "\n",
    "Source: <https://docs.python.org/3.9/library/index.html>"
   ]
  },
  {
   "cell_type": "markdown",
   "metadata": {
    "slideshow": {
     "slide_type": "subslide"
    }
   },
   "source": [
    "## What is a third party library?\n",
    "\n",
    "A third party library refers to any library where the latest version of the code is not maintained and hosted by neither ourselves nor the official organization [Python.org](https://www.python.org/)."
   ]
  },
  {
   "cell_type": "markdown",
   "metadata": {
    "slideshow": {
     "slide_type": "subslide"
    }
   },
   "source": [
    "## So which third party library makes Python the go-to choice for data science?\n",
    "\n",
    "- NumPy\n",
    "- Pandas\n",
    "- Matplotlib\n",
    "- Scikit-Learn\n",
    "- TensorFlow\n",
    "- PyTorch\n",
    "- ...etc."
   ]
  },
  {
   "cell_type": "markdown",
   "metadata": {
    "slideshow": {
     "slide_type": "slide"
    }
   },
   "source": [
    "## Setting up a Python Development Environment"
   ]
  },
  {
   "cell_type": "markdown",
   "metadata": {
    "slideshow": {
     "slide_type": "subslide"
    }
   },
   "source": [
    "## Given Python is a general-purposed programming language, there are variuos ways setting up a Python development environement"
   ]
  },
  {
   "cell_type": "markdown",
   "metadata": {
    "slideshow": {
     "slide_type": "subslide"
    }
   },
   "source": [
    "## It is a mix-and-match challenge\n",
    "\n",
    "- The operating system\n",
    "- The Python interpreter\n",
    "- The Integrated Development Environment\n",
    "- The package/environment manager"
   ]
  },
  {
   "cell_type": "markdown",
   "metadata": {
    "slideshow": {
     "slide_type": "subslide"
    }
   },
   "source": [
    "## Even among data analysts, everyone has its own favorite flavour\n",
    "\n",
    "![](https://media.giphy.com/media/cCEt1ShfzOa3u/giphy.gif)\n",
    "\n",
    "Source: <https://giphy.com/>"
   ]
  },
  {
   "cell_type": "markdown",
   "metadata": {
    "slideshow": {
     "slide_type": "subslide"
    }
   },
   "source": [
    "## The best practice so far for a programming analyst is Python interpreter + Jupyter\n",
    "\n",
    "As known as the \"Notebook-based\" solution or the \"Jupyter ecosystem\"."
   ]
  },
  {
   "cell_type": "markdown",
   "metadata": {
    "slideshow": {
     "slide_type": "subslide"
    }
   },
   "source": [
    "## When you are more familiar with Python, learn advanced topics then choose your own flavour\n",
    "\n",
    "- Path variables\n",
    "- Library management\n",
    "- Virtual environemnt\n",
    "- Deployment"
   ]
  },
  {
   "cell_type": "markdown",
   "metadata": {
    "slideshow": {
     "slide_type": "subslide"
    }
   },
   "source": [
    "## Critical elements of writing/running a Python program\n",
    "\n",
    "- Text editor\n",
    "- Terminal\n",
    "- Python interpreter\n",
    "- Integrated development environment(IDE)"
   ]
  },
  {
   "cell_type": "markdown",
   "metadata": {
    "slideshow": {
     "slide_type": "subslide"
    }
   },
   "source": [
    "## A tour of planet Jupyter\n",
    "\n",
    "- [Planet Jupyter](https://mybinder.org/v2/gh/datainpoint/classroom-programming-and-data-analysis/HEAD)\n",
    "- `/tree` for classic Jupyter Notebook.\n",
    "- `/lab` for Jupyter Lab."
   ]
  },
  {
   "cell_type": "markdown",
   "metadata": {
    "slideshow": {
     "slide_type": "subslide"
    }
   },
   "source": [
    "## At the homepage of your Jupyter Notebook Server\n",
    "\n",
    "- New > Text File\n",
    "- New > Terminal\n",
    "- New > Terminal > Type `python --version` then hit Enter.\n",
    "- New > Notebook"
   ]
  },
  {
   "cell_type": "markdown",
   "metadata": {
    "slideshow": {
     "slide_type": "subslide"
    }
   },
   "source": [
    "## A few Python programs to try on first\n",
    "\n",
    "- Hello, world!\n",
    "- The Zen of Python."
   ]
  },
  {
   "cell_type": "markdown",
   "metadata": {
    "slideshow": {
     "slide_type": "subslide"
    }
   },
   "source": [
    "## Hello, world!"
   ]
  },
  {
   "cell_type": "code",
   "execution_count": 5,
   "metadata": {
    "slideshow": {
     "slide_type": "-"
    }
   },
   "outputs": [
    {
     "name": "stdout",
     "output_type": "stream",
     "text": [
      "Hello, world!\n"
     ]
    }
   ],
   "source": [
    "print(\"Hello, world!\")"
   ]
  },
  {
   "cell_type": "markdown",
   "metadata": {
    "slideshow": {
     "slide_type": "subslide"
    }
   },
   "source": [
    "## Zen of Python\n",
    "\n",
    "Long time Pythoneer [Tim Peters](https://en.wikipedia.org/wiki/Tim_Peters_(software_engineer)) succinctly channels the BDFL's guiding principles for Python's design into 20 aphorisms, only 19 of which have been written down."
   ]
  },
  {
   "cell_type": "code",
   "execution_count": 6,
   "metadata": {
    "slideshow": {
     "slide_type": "subslide"
    }
   },
   "outputs": [
    {
     "name": "stdout",
     "output_type": "stream",
     "text": [
      "The Zen of Python, by Tim Peters\n",
      "\n",
      "Beautiful is better than ugly.\n",
      "Explicit is better than implicit.\n",
      "Simple is better than complex.\n",
      "Complex is better than complicated.\n",
      "Flat is better than nested.\n",
      "Sparse is better than dense.\n",
      "Readability counts.\n",
      "Special cases aren't special enough to break the rules.\n",
      "Although practicality beats purity.\n",
      "Errors should never pass silently.\n",
      "Unless explicitly silenced.\n",
      "In the face of ambiguity, refuse the temptation to guess.\n",
      "There should be one-- and preferably only one --obvious way to do it.\n",
      "Although that way may not be obvious at first unless you're Dutch.\n",
      "Now is better than never.\n",
      "Although never is often better than *right* now.\n",
      "If the implementation is hard to explain, it's a bad idea.\n",
      "If the implementation is easy to explain, it may be a good idea.\n",
      "Namespaces are one honking great idea -- let's do more of those!\n"
     ]
    }
   ],
   "source": [
    "import this"
   ]
  },
  {
   "cell_type": "markdown",
   "metadata": {
    "slideshow": {
     "slide_type": "subslide"
    }
   },
   "source": [
    "## My favorite one would be:\n",
    "\n",
    "> Now is better than never.\n",
    "\n",
    "How about yours?"
   ]
  },
  {
   "cell_type": "markdown",
   "metadata": {
    "slideshow": {
     "slide_type": "slide"
    }
   },
   "source": [
    "## Functions"
   ]
  },
  {
   "cell_type": "markdown",
   "metadata": {
    "slideshow": {
     "slide_type": "subslide"
    }
   },
   "source": [
    "## What is `print()` in our previous example?\n",
    "\n",
    "`print()` is one of the so-called **built-in** functions in Python."
   ]
  },
  {
   "cell_type": "markdown",
   "metadata": {
    "slideshow": {
     "slide_type": "subslide"
    }
   },
   "source": [
    "## What is a function\n",
    "\n",
    "A function is a named sequence of statements that performs a computation, either mathematical, symbolic, or graphical. When we define a function, we specify the name and the sequence of statements. Later, we can call the function by name."
   ]
  },
  {
   "cell_type": "markdown",
   "metadata": {
    "slideshow": {
     "slide_type": "subslide"
    }
   },
   "source": [
    "## How do we analyze a function?\n",
    "\n",
    "- function name.\n",
    "- inputs and parameters, if any.\n",
    "- sequence of statements in a code block belongs to the function itself.\n",
    "- outputs, if any."
   ]
  },
  {
   "cell_type": "markdown",
   "metadata": {
    "slideshow": {
     "slide_type": "subslide"
    }
   },
   "source": [
    "## Take bubble tea shop for instance\n",
    "\n",
    "![Imgur](https://i.imgur.com/6gpJebm.jpg?1)\n",
    "\n",
    "Source: Google Search"
   ]
  },
  {
   "cell_type": "markdown",
   "metadata": {
    "slideshow": {
     "slide_type": "subslide"
    }
   },
   "source": [
    "## What is a built-in function?\n",
    "\n",
    "A pre-defined function, we can call the function by name without defining it."
   ]
  },
  {
   "cell_type": "markdown",
   "metadata": {
    "slideshow": {
     "slide_type": "subslide"
    }
   },
   "source": [
    "## How many built-in functions are available for us?\n",
    "\n",
    "- `print()`\n",
    "- `help()`\n",
    "- `type()`\n",
    "- ...etc.\n",
    "\n",
    "Source: https://docs.python.org/3/library/functions.html"
   ]
  },
  {
   "cell_type": "markdown",
   "metadata": {
    "slideshow": {
     "slide_type": "subslide"
    }
   },
   "source": [
    "## Get HELP with `help()`"
   ]
  },
  {
   "cell_type": "code",
   "execution_count": 7,
   "metadata": {
    "slideshow": {
     "slide_type": "subslide"
    }
   },
   "outputs": [
    {
     "name": "stdout",
     "output_type": "stream",
     "text": [
      "Help on built-in function print in module builtins:\n",
      "\n",
      "print(...)\n",
      "    print(value, ..., sep=' ', end='\\n', file=sys.stdout, flush=False)\n",
      "    \n",
      "    Prints the values to a stream, or to sys.stdout by default.\n",
      "    Optional keyword arguments:\n",
      "    file:  a file-like object (stream); defaults to the current sys.stdout.\n",
      "    sep:   string inserted between values, default a space.\n",
      "    end:   string appended after the last value, default a newline.\n",
      "    flush: whether to forcibly flush the stream.\n",
      "\n"
     ]
    }
   ],
   "source": [
    "help(print)"
   ]
  },
  {
   "cell_type": "code",
   "execution_count": 8,
   "metadata": {
    "slideshow": {
     "slide_type": "subslide"
    }
   },
   "outputs": [
    {
     "name": "stdout",
     "output_type": "stream",
     "text": [
      "Help on class type in module builtins:\n",
      "\n",
      "class type(object)\n",
      " |  type(object_or_name, bases, dict)\n",
      " |  type(object) -> the object's type\n",
      " |  type(name, bases, dict) -> a new type\n",
      " |  \n",
      " |  Methods defined here:\n",
      " |  \n",
      " |  __call__(self, /, *args, **kwargs)\n",
      " |      Call self as a function.\n",
      " |  \n",
      " |  __delattr__(self, name, /)\n",
      " |      Implement delattr(self, name).\n",
      " |  \n",
      " |  __dir__(self, /)\n",
      " |      Specialized __dir__ implementation for types.\n",
      " |  \n",
      " |  __getattribute__(self, name, /)\n",
      " |      Return getattr(self, name).\n",
      " |  \n",
      " |  __init__(self, /, *args, **kwargs)\n",
      " |      Initialize self.  See help(type(self)) for accurate signature.\n",
      " |  \n",
      " |  __instancecheck__(self, instance, /)\n",
      " |      Check if an object is an instance.\n",
      " |  \n",
      " |  __repr__(self, /)\n",
      " |      Return repr(self).\n",
      " |  \n",
      " |  __setattr__(self, name, value, /)\n",
      " |      Implement setattr(self, name, value).\n",
      " |  \n",
      " |  __sizeof__(self, /)\n",
      " |      Return memory consumption of the type object.\n",
      " |  \n",
      " |  __subclasscheck__(self, subclass, /)\n",
      " |      Check if a class is a subclass.\n",
      " |  \n",
      " |  __subclasses__(self, /)\n",
      " |      Return a list of immediate subclasses.\n",
      " |  \n",
      " |  mro(self, /)\n",
      " |      Return a type's method resolution order.\n",
      " |  \n",
      " |  ----------------------------------------------------------------------\n",
      " |  Class methods defined here:\n",
      " |  \n",
      " |  __prepare__(...)\n",
      " |      __prepare__() -> dict\n",
      " |      used to create the namespace for the class statement\n",
      " |  \n",
      " |  ----------------------------------------------------------------------\n",
      " |  Static methods defined here:\n",
      " |  \n",
      " |  __new__(*args, **kwargs)\n",
      " |      Create and return a new object.  See help(type) for accurate signature.\n",
      " |  \n",
      " |  ----------------------------------------------------------------------\n",
      " |  Data descriptors defined here:\n",
      " |  \n",
      " |  __abstractmethods__\n",
      " |  \n",
      " |  __dict__\n",
      " |  \n",
      " |  __text_signature__\n",
      " |  \n",
      " |  ----------------------------------------------------------------------\n",
      " |  Data and other attributes defined here:\n",
      " |  \n",
      " |  __base__ = <class 'object'>\n",
      " |      The base class of the class hierarchy.\n",
      " |      \n",
      " |      When called, it accepts no arguments and returns a new featureless\n",
      " |      instance that has no instance attributes and cannot be given any.\n",
      " |  \n",
      " |  __bases__ = (<class 'object'>,)\n",
      " |  \n",
      " |  __basicsize__ = 880\n",
      " |  \n",
      " |  __dictoffset__ = 264\n",
      " |  \n",
      " |  __flags__ = 2148291584\n",
      " |  \n",
      " |  __itemsize__ = 40\n",
      " |  \n",
      " |  __mro__ = (<class 'type'>, <class 'object'>)\n",
      " |  \n",
      " |  __weakrefoffset__ = 368\n",
      "\n"
     ]
    }
   ],
   "source": [
    "help(type)"
   ]
  },
  {
   "cell_type": "markdown",
   "metadata": {
    "slideshow": {
     "slide_type": "subslide"
    }
   },
   "source": [
    "## We can also `help()` on `help()`"
   ]
  },
  {
   "cell_type": "code",
   "execution_count": 9,
   "metadata": {},
   "outputs": [
    {
     "name": "stdout",
     "output_type": "stream",
     "text": [
      "Help on _Helper in module _sitebuiltins object:\n",
      "\n",
      "class _Helper(builtins.object)\n",
      " |  Define the builtin 'help'.\n",
      " |  \n",
      " |  This is a wrapper around pydoc.help that provides a helpful message\n",
      " |  when 'help' is typed at the Python interactive prompt.\n",
      " |  \n",
      " |  Calling help() at the Python prompt starts an interactive help session.\n",
      " |  Calling help(thing) prints help for the python object 'thing'.\n",
      " |  \n",
      " |  Methods defined here:\n",
      " |  \n",
      " |  __call__(self, *args, **kwds)\n",
      " |      Call self as a function.\n",
      " |  \n",
      " |  __repr__(self)\n",
      " |      Return repr(self).\n",
      " |  \n",
      " |  ----------------------------------------------------------------------\n",
      " |  Data descriptors defined here:\n",
      " |  \n",
      " |  __dict__\n",
      " |      dictionary for instance variables (if defined)\n",
      " |  \n",
      " |  __weakref__\n",
      " |      list of weak references to the object (if defined)\n",
      "\n"
     ]
    }
   ],
   "source": [
    "help(help)"
   ]
  },
  {
   "cell_type": "markdown",
   "metadata": {
    "slideshow": {
     "slide_type": "subslide"
    }
   },
   "source": [
    "## Besides built-in functions or library-powered functions, we sometimes need to self-define our own functions\n",
    "\n",
    "- `def` the name of our function\n",
    "- `return` the output of our function\n",
    "\n",
    "```python\n",
    "def function_name(INPUTS, PARAMETERS, ...):\n",
    "    \"\"\"\n",
    "    docstring: print documentation when help() is called\n",
    "    \"\"\"\n",
    "    # sequence of statements\n",
    "    return OUTPUTS\n",
    "```"
   ]
  },
  {
   "cell_type": "code",
   "execution_count": 10,
   "metadata": {
    "slideshow": {
     "slide_type": "subslide"
    }
   },
   "outputs": [
    {
     "name": "stdout",
     "output_type": "stream",
     "text": [
      "Help on function add in module __main__:\n",
      "\n",
      "add(x, y)\n",
      "    Equivalent to x + y\n",
      "\n"
     ]
    }
   ],
   "source": [
    "def add(x, y):\n",
    "    \"\"\"\n",
    "    Equivalent to x + y\n",
    "    \"\"\"\n",
    "    return x + y\n",
    "\n",
    "help(add)"
   ]
  },
  {
   "cell_type": "markdown",
   "metadata": {
    "slideshow": {
     "slide_type": "subslide"
    }
   },
   "source": [
    "## Call the function by name after defining it"
   ]
  },
  {
   "cell_type": "code",
   "execution_count": 11,
   "metadata": {},
   "outputs": [
    {
     "data": {
      "text/plain": [
       "11"
      ]
     },
     "execution_count": 11,
     "metadata": {},
     "output_type": "execute_result"
    }
   ],
   "source": [
    "add(5, 6)"
   ]
  },
  {
   "cell_type": "markdown",
   "metadata": {
    "slideshow": {
     "slide_type": "slide"
    }
   },
   "source": [
    "## Arithmetic Operators in Python"
   ]
  },
  {
   "cell_type": "markdown",
   "metadata": {
    "slideshow": {
     "slide_type": "subslide"
    }
   },
   "source": [
    "## Symbols that represent computations\n",
    "\n",
    "- `+`, `-`, `*`, `/` are quite straight-forward\n",
    "- `**` for exponentiation\n",
    "- `%` for remainder\n",
    "- `//` for floor-divide"
   ]
  },
  {
   "cell_type": "markdown",
   "metadata": {
    "slideshow": {
     "slide_type": "subslide"
    }
   },
   "source": [
    "## When an expression contains more than one operator, the order of evaluation depends on the operator precedence\n",
    "\n",
    "1. Parentheses have the highest precedence.\n",
    "2. Exponentiation has the next highest precedence.\n",
    "3. Multiplication and division have higher precedence than addition and subtraction.\n",
    "4. Operators with the same precedence are evaluated from left to right."
   ]
  },
  {
   "cell_type": "markdown",
   "metadata": {
    "slideshow": {
     "slide_type": "subslide"
    }
   },
   "source": [
    "## Converting Fahrenheit to Celsius\n",
    "\n",
    "\\begin{equation}\n",
    "\\text{Celsius}(^{\\circ}C) = (Fahrenheit(^{\\circ}F) - 32) \\times \\frac{5}{9}\n",
    "\\end{equation}"
   ]
  },
  {
   "cell_type": "code",
   "execution_count": 12,
   "metadata": {
    "slideshow": {
     "slide_type": "subslide"
    }
   },
   "outputs": [
    {
     "name": "stdout",
     "output_type": "stream",
     "text": [
      "0.0\n",
      "100.0\n"
     ]
    }
   ],
   "source": [
    "def from_fahrenheit_to_celsius(x):\n",
    "    out = (x - 32) * 5/9\n",
    "    return out\n",
    "\n",
    "print(from_fahrenheit_to_celsius(32))\n",
    "print(from_fahrenheit_to_celsius(212))"
   ]
  },
  {
   "cell_type": "markdown",
   "metadata": {
    "slideshow": {
     "slide_type": "subslide"
    }
   },
   "source": [
    "## How to properly use functions?\n",
    "\n",
    "- Using arguments to adjust the output of a defined function.\n",
    "- Differentiate function versus method.\n",
    "- Be aware of the update mechanism."
   ]
  },
  {
   "cell_type": "markdown",
   "metadata": {
    "slideshow": {
     "slide_type": "subslide"
    }
   },
   "source": [
    "## `sorted()` function takes a `bool` argument for `reverse` parameter"
   ]
  },
  {
   "cell_type": "code",
   "execution_count": 13,
   "metadata": {
    "slideshow": {
     "slide_type": "-"
    }
   },
   "outputs": [
    {
     "name": "stdout",
     "output_type": "stream",
     "text": [
      "[11, 7, 5, 3, 2]\n",
      "[2, 3, 5, 7, 11]\n"
     ]
    }
   ],
   "source": [
    "list_to_be_sorted = [11, 5, 7, 2, 3]\n",
    "print(sorted(list_to_be_sorted, reverse=True))\n",
    "print(sorted(list_to_be_sorted))"
   ]
  },
  {
   "cell_type": "markdown",
   "metadata": {
    "slideshow": {
     "slide_type": "subslide"
    }
   },
   "source": [
    "## Different syntax\n",
    "\n",
    "```python\n",
    "function_name(OBJECT, ARGUMENTS) # function\n",
    "OBJECT.method_name(ARGUMENTS)    # method\n",
    "```"
   ]
  },
  {
   "cell_type": "markdown",
   "metadata": {
    "slideshow": {
     "slide_type": "subslide"
    }
   },
   "source": [
    "## `list` has a method `sort()` works like `sorted()` function"
   ]
  },
  {
   "cell_type": "code",
   "execution_count": 14,
   "metadata": {
    "slideshow": {
     "slide_type": "subslide"
    }
   },
   "outputs": [
    {
     "name": "stdout",
     "output_type": "stream",
     "text": [
      "[2, 3, 5, 7, 11]\n",
      "[2, 3, 5, 7, 11]\n"
     ]
    }
   ],
   "source": [
    "list_to_be_sorted = [11, 5, 7, 2, 3]\n",
    "print(sorted(list_to_be_sorted))\n",
    "list_to_be_sorted.sort()\n",
    "print(list_to_be_sorted)"
   ]
  },
  {
   "cell_type": "markdown",
   "metadata": {
    "slideshow": {
     "slide_type": "subslide"
    }
   },
   "source": [
    "## How is the `list_to_be_sorted` being updated?"
   ]
  },
  {
   "cell_type": "code",
   "execution_count": 15,
   "metadata": {
    "slideshow": {
     "slide_type": "-"
    }
   },
   "outputs": [
    {
     "name": "stdout",
     "output_type": "stream",
     "text": [
      "[2, 3, 5, 7, 11]\n"
     ]
    }
   ],
   "source": [
    "# update through return\n",
    "list_to_be_sorted = [11, 5, 7, 2, 3]\n",
    "sorted_list = sorted(list_to_be_sorted)\n",
    "print(sorted_list)"
   ]
  },
  {
   "cell_type": "code",
   "execution_count": 16,
   "metadata": {
    "slideshow": {
     "slide_type": "subslide"
    }
   },
   "outputs": [
    {
     "name": "stdout",
     "output_type": "stream",
     "text": [
      "[2, 3, 5, 7, 11]\n"
     ]
    }
   ],
   "source": [
    "# update through change of state\n",
    "list_to_be_sorted = [11, 5, 7, 2, 3]\n",
    "list_to_be_sorted.sort()\n",
    "print(list_to_be_sorted)"
   ]
  },
  {
   "cell_type": "markdown",
   "metadata": {
    "slideshow": {
     "slide_type": "slide"
    }
   },
   "source": [
    "## Variables"
   ]
  },
  {
   "cell_type": "markdown",
   "metadata": {
    "slideshow": {
     "slide_type": "subslide"
    }
   },
   "source": [
    "## A variable is a name that refers to a value"
   ]
  },
  {
   "cell_type": "markdown",
   "metadata": {
    "slideshow": {
     "slide_type": "subslide"
    }
   },
   "source": [
    "## Choose names for our variables: don'ts\n",
    "\n",
    "- Do not use built-in functions.\n",
    "- Cannot use [keywords](https://docs.python.org/3/reference/lexical_analysis.html#keywords).\n",
    "- Cannot start with numbers."
   ]
  },
  {
   "cell_type": "markdown",
   "metadata": {
    "slideshow": {
     "slide_type": "subslide"
    }
   },
   "source": [
    "## If you accidentally replaced built-in function with variable, use `del` to release it\n",
    "\n",
    "```python\n",
    "print = 5566\n",
    "print(\"Hello, world!\")\n",
    "#del print\n",
    "#print(\"Hello, world!\")\n",
    "```"
   ]
  },
  {
   "cell_type": "markdown",
   "metadata": {
    "slideshow": {
     "slide_type": "subslide"
    }
   },
   "source": [
    "## Choose names for our variables: dos\n",
    "\n",
    "- Use a lowercase single letter, word, or words\n",
    "- Separate words with underscores to improve readability(so-called snake case)\n",
    "- Be meaningful"
   ]
  },
  {
   "cell_type": "markdown",
   "metadata": {
    "slideshow": {
     "slide_type": "subslide"
    }
   },
   "source": [
    "## Using `#` to write comments in our program\n",
    "\n",
    "Comments can appear on a line by itself, or at the end of a line."
   ]
  },
  {
   "cell_type": "code",
   "execution_count": 17,
   "metadata": {},
   "outputs": [
    {
     "name": "stdout",
     "output_type": "stream",
     "text": [
      "0.0\n",
      "100.0\n"
     ]
    }
   ],
   "source": [
    "# turn fahrenheit to celsius\n",
    "def from_fahrenheit_to_celsius(x):\n",
    "    out = (x - 32) * 5/9\n",
    "    return out\n",
    "\n",
    "print(from_fahrenheit_to_celsius(32))  # turn 32 fahrenheit to celsius\n",
    "print(from_fahrenheit_to_celsius(212)) # turn 212 fahrenheit to celsius"
   ]
  },
  {
   "cell_type": "markdown",
   "metadata": {
    "slideshow": {
     "slide_type": "subslide"
    }
   },
   "source": [
    "## Everything from `#` to the end of the line is ignored during execution"
   ]
  },
  {
   "cell_type": "markdown",
   "metadata": {
    "slideshow": {
     "slide_type": "slide"
    }
   },
   "source": [
    "## Data Types"
   ]
  },
  {
   "cell_type": "markdown",
   "metadata": {
    "slideshow": {
     "slide_type": "subslide"
    }
   },
   "source": [
    "## Values belong to different types, we commonly use\n",
    "\n",
    "- `int` and `float` for numeric computing.\n",
    "- `str` for symbolic.\n",
    "- `bool` for conditionals.\n",
    "- `NoneType` for undefined values."
   ]
  },
  {
   "cell_type": "markdown",
   "metadata": {
    "slideshow": {
     "slide_type": "subslide"
    }
   },
   "source": [
    "## Use `type` function to check the type of a certain value/variable"
   ]
  },
  {
   "cell_type": "code",
   "execution_count": 18,
   "metadata": {},
   "outputs": [
    {
     "name": "stdout",
     "output_type": "stream",
     "text": [
      "<class 'int'>\n",
      "<class 'float'>\n",
      "<class 'str'>\n",
      "<class 'bool'>\n",
      "<class 'bool'>\n",
      "<class 'NoneType'>\n"
     ]
    }
   ],
   "source": [
    "print(type(5566))\n",
    "print(type(42.195))\n",
    "print(type(\"Hello, world!\"))\n",
    "print(type(True))\n",
    "print(type(False))\n",
    "print(type(None))"
   ]
  },
  {
   "cell_type": "markdown",
   "metadata": {
    "slideshow": {
     "slide_type": "subslide"
    }
   },
   "source": [
    "## How to form a `str`?\n",
    "\n",
    "Use paired `'`, `\"`, or `\"\"\"` to embrace letters strung together."
   ]
  },
  {
   "cell_type": "code",
   "execution_count": 19,
   "metadata": {},
   "outputs": [
    {
     "name": "stdout",
     "output_type": "stream",
     "text": [
      "<class 'str'>\n",
      "<class 'str'>\n",
      "<class 'str'>\n"
     ]
    }
   ],
   "source": [
    "str_with_single_quotes = 'Hello, world!'\n",
    "str_with_double_quotes = \"Hello, world!\"\n",
    "str_with_triple_double_quotes = \"\"\"Hello, world!\"\"\"\n",
    "print(type(str_with_single_quotes))\n",
    "print(type(str_with_double_quotes))\n",
    "print(type(str_with_triple_double_quotes))"
   ]
  },
  {
   "cell_type": "markdown",
   "metadata": {
    "slideshow": {
     "slide_type": "subslide"
    }
   },
   "source": [
    "## If we have single/double quotes in `str` values we might have `SyntaxError`\n",
    "\n",
    "```python\n",
    "mcd = 'I'm lovin' it!'\n",
    "```"
   ]
  },
  {
   "cell_type": "markdown",
   "metadata": {
    "slideshow": {
     "slide_type": "subslide"
    }
   },
   "source": [
    "## Use `\\` to escape or paired `\"` or paired `\"\"\"`"
   ]
  },
  {
   "cell_type": "code",
   "execution_count": 20,
   "metadata": {},
   "outputs": [],
   "source": [
    "mcd = 'I\\'m lovin\\' it!'\n",
    "mcd = \"I'm lovin' it!\"\n",
    "mcd = \"\"\"I'm lovin' it!\"\"\""
   ]
  },
  {
   "cell_type": "markdown",
   "metadata": {
    "slideshow": {
     "slide_type": "subslide"
    }
   },
   "source": [
    "## We've seen arithmetic operators for numeric values\n",
    "\n",
    "How about those for `str`?"
   ]
  },
  {
   "cell_type": "markdown",
   "metadata": {
    "slideshow": {
     "slide_type": "subslide"
    }
   },
   "source": [
    "## `str` type takes `+` and `*`\n",
    "\n",
    "- `+` for concatenation\n",
    "- `*` for repetition"
   ]
  },
  {
   "cell_type": "code",
   "execution_count": 21,
   "metadata": {},
   "outputs": [
    {
     "name": "stdout",
     "output_type": "stream",
     "text": [
      "I'm lovin' it!\n",
      "I'm lovin' it!I'm lovin' it!\n",
      "I'm lovin' it!I'm lovin' it!I'm lovin' it!\n"
     ]
    }
   ],
   "source": [
    "mcd = \"I'm lovin' it!\"\n",
    "print(mcd)\n",
    "print(mcd + mcd)\n",
    "print(mcd * 3)"
   ]
  },
  {
   "cell_type": "markdown",
   "metadata": {
    "slideshow": {
     "slide_type": "subslide"
    }
   },
   "source": [
    "## Format our `str` printouts\n",
    "\n",
    "- The `.format()` way.\n",
    "- The `f-string` way."
   ]
  },
  {
   "cell_type": "markdown",
   "metadata": {
    "slideshow": {
     "slide_type": "subslide"
    }
   },
   "source": [
    "## The `.format()` way: uses `{}` for string print with format"
   ]
  },
  {
   "cell_type": "code",
   "execution_count": 22,
   "metadata": {},
   "outputs": [
    {
     "name": "stdout",
     "output_type": "stream",
     "text": [
      "Hello, Anakin Skywalker!\n",
      "Hello, Luke Skywalker!\n"
     ]
    }
   ],
   "source": [
    "def hello_anyone(anyone):\n",
    "    out = \"Hello, {}!\".format(anyone)\n",
    "    return out\n",
    "\n",
    "print(hello_anyone(\"Anakin Skywalker\"))\n",
    "print(hello_anyone(\"Luke Skywalker\"))"
   ]
  },
  {
   "cell_type": "markdown",
   "metadata": {
    "slideshow": {
     "slide_type": "subslide"
    }
   },
   "source": [
    "## The `f-string` way: uses `{}` for string print with format"
   ]
  },
  {
   "cell_type": "code",
   "execution_count": 23,
   "metadata": {},
   "outputs": [
    {
     "name": "stdout",
     "output_type": "stream",
     "text": [
      "Hello, Anakin Skywalker!\n",
      "Hello, Luke Skywalker!\n"
     ]
    }
   ],
   "source": [
    "def hello_anyone(anyone):\n",
    "    out = f\"Hello, {anyone}!\"\n",
    "    return out\n",
    "\n",
    "print(hello_anyone(\"Anakin Skywalker\"))\n",
    "print(hello_anyone(\"Luke Skywalker\"))"
   ]
  },
  {
   "cell_type": "markdown",
   "metadata": {
    "slideshow": {
     "slide_type": "subslide"
    }
   },
   "source": [
    "## Commonly used format\n",
    "\n",
    "- `{:.f}` for float format.\n",
    "- `{:,}` for comma format."
   ]
  },
  {
   "cell_type": "code",
   "execution_count": 24,
   "metadata": {
    "slideshow": {
     "slide_type": "subslide"
    }
   },
   "outputs": [
    {
     "name": "stdout",
     "output_type": "stream",
     "text": [
      "3.14\n",
      "3.14\n"
     ]
    }
   ],
   "source": [
    "def format_pi(pi):\n",
    "    return f\"{pi:.2f}\"\n",
    "\n",
    "print(format_pi(3.1415))\n",
    "print(format_pi(3.141592))"
   ]
  },
  {
   "cell_type": "code",
   "execution_count": 25,
   "metadata": {
    "slideshow": {
     "slide_type": "subslide"
    }
   },
   "outputs": [
    {
     "name": "stdout",
     "output_type": "stream",
     "text": [
      "1,000 NTD to 42,670 KRW.\n",
      "5,000 NTD to 213,350 KRW.\n"
     ]
    }
   ],
   "source": [
    "def format_krw(ntd):\n",
    "    krw = ntd * 42.67\n",
    "    return f\"{ntd:,} NTD to {krw:,.0f} KRW.\"\n",
    "\n",
    "print(format_krw(1000))\n",
    "print(format_krw(5000))"
   ]
  },
  {
   "cell_type": "markdown",
   "metadata": {
    "slideshow": {
     "slide_type": "subslide"
    }
   },
   "source": [
    "## How to form a `bool`?\n",
    "\n",
    "- Use keywords `True` and `False` directly.\n",
    "- Use relational operators.\n",
    "- Use logical operators."
   ]
  },
  {
   "cell_type": "markdown",
   "metadata": {
    "slideshow": {
     "slide_type": "subslide"
    }
   },
   "source": [
    "## Use keywords `True` and `False` directly"
   ]
  },
  {
   "cell_type": "code",
   "execution_count": 26,
   "metadata": {},
   "outputs": [
    {
     "name": "stdout",
     "output_type": "stream",
     "text": [
      "True\n",
      "<class 'bool'>\n",
      "False\n",
      "<class 'bool'>\n"
     ]
    }
   ],
   "source": [
    "print(True)\n",
    "print(type(True))\n",
    "print(False)\n",
    "print(type(False))"
   ]
  },
  {
   "cell_type": "markdown",
   "metadata": {
    "slideshow": {
     "slide_type": "subslide"
    }
   },
   "source": [
    "## Use relational operators\n",
    "\n",
    "We have `==`, `!=`, `>`, `<`, `>=`, `<=`, `in`, `not in` as common relational operators to compare values."
   ]
  },
  {
   "cell_type": "code",
   "execution_count": 27,
   "metadata": {},
   "outputs": [
    {
     "name": "stdout",
     "output_type": "stream",
     "text": [
      "True\n",
      "False\n",
      "True\n"
     ]
    }
   ],
   "source": [
    "print(5566 == 5566.0)\n",
    "print(5566 != 5566.0)\n",
    "print('56' in '5566')"
   ]
  },
  {
   "cell_type": "markdown",
   "metadata": {
    "slideshow": {
     "slide_type": "subslide"
    }
   },
   "source": [
    "## Use logical operators\n",
    "\n",
    "- We have `and`, `or`, `not` as common logical operators to manipulate `bool` type values.\n",
    "- Getting a `True` only if both sides of `and` are `True`.\n",
    "- Getting a `False` only if both sides of `or` are `False`."
   ]
  },
  {
   "cell_type": "code",
   "execution_count": 28,
   "metadata": {
    "slideshow": {
     "slide_type": "subslide"
    }
   },
   "outputs": [
    {
     "name": "stdout",
     "output_type": "stream",
     "text": [
      "True\n",
      "False\n",
      "False\n",
      "True\n",
      "True\n",
      "False\n",
      "False\n",
      "True\n"
     ]
    }
   ],
   "source": [
    "print(True and True)  # get True only when both sides are True\n",
    "print(True and False)\n",
    "print(False and False)\n",
    "print(True or True)\n",
    "print(True or False)\n",
    "print(False or False) # get a False only when both sides are False\n",
    "# use of not is quite straight-forward\n",
    "print(not True)\n",
    "print(not False)"
   ]
  },
  {
   "cell_type": "markdown",
   "metadata": {
    "slideshow": {
     "slide_type": "subslide"
    }
   },
   "source": [
    "## `bool` is quite useful in control flow and filtering data."
   ]
  },
  {
   "cell_type": "markdown",
   "metadata": {
    "slideshow": {
     "slide_type": "subslide"
    }
   },
   "source": [
    "## Python has a special type, the `NoneType`, with a single value, None\n",
    "\n",
    "- This is used to represent undefined values.\n",
    "- It is not the same as `False`, or an empty string `''` or 0."
   ]
  },
  {
   "cell_type": "code",
   "execution_count": 29,
   "metadata": {
    "slideshow": {
     "slide_type": "subslide"
    }
   },
   "outputs": [
    {
     "name": "stdout",
     "output_type": "stream",
     "text": [
      "<class 'NoneType'>\n",
      "False\n",
      "False\n",
      "False\n",
      "True\n"
     ]
    }
   ],
   "source": [
    "a_none_type = None\n",
    "print(type(a_none_type))\n",
    "print(a_none_type == False)\n",
    "print(a_none_type == '')\n",
    "print(a_none_type == 0)\n",
    "print(a_none_type == None)"
   ]
  },
  {
   "cell_type": "markdown",
   "metadata": {
    "slideshow": {
     "slide_type": "subslide"
    }
   },
   "source": [
    "## A function without `return` statement actually returns a `NoneType`."
   ]
  },
  {
   "cell_type": "code",
   "execution_count": 30,
   "metadata": {},
   "outputs": [
    {
     "name": "stdout",
     "output_type": "stream",
     "text": [
      "Hello, Anakin Skywalker!\n",
      "Hello, Luke Skywalker!\n"
     ]
    }
   ],
   "source": [
    "def hello_anyone(anyone):\n",
    "    print(f\"Hello, {anyone}!\")\n",
    "\n",
    "hello_anyone(\"Anakin Skywalker\")\n",
    "hello_anyone(\"Luke Skywalker\")"
   ]
  },
  {
   "cell_type": "code",
   "execution_count": 31,
   "metadata": {
    "slideshow": {
     "slide_type": "subslide"
    }
   },
   "outputs": [
    {
     "name": "stdout",
     "output_type": "stream",
     "text": [
      "Hello, Anakin Skywalker!\n"
     ]
    },
    {
     "data": {
      "text/plain": [
       "NoneType"
      ]
     },
     "execution_count": 31,
     "metadata": {},
     "output_type": "execute_result"
    }
   ],
   "source": [
    "func_out = hello_anyone(\"Anakin Skywalker\")\n",
    "type(func_out)"
   ]
  },
  {
   "cell_type": "markdown",
   "metadata": {
    "slideshow": {
     "slide_type": "subslide"
    }
   },
   "source": [
    "## Data types can be dynamically converted using functions\n",
    "\n",
    "- `int()` for converting to `int`\n",
    "- `float()` for converting to `float`\n",
    "- `str()` for converting to `str`\n",
    "- `bool()` for converting to `bool`"
   ]
  },
  {
   "cell_type": "markdown",
   "metadata": {
    "slideshow": {
     "slide_type": "subslide"
    }
   },
   "source": [
    "## Upcasting(to a supertype) is always allowed\n",
    "\n",
    "`NoneType` -> `bool` -> `int` -> `float` -> `str`."
   ]
  },
  {
   "cell_type": "code",
   "execution_count": 32,
   "metadata": {},
   "outputs": [
    {
     "name": "stdout",
     "output_type": "stream",
     "text": [
      "False\n",
      "1\n",
      "1.0\n",
      "1.0\n"
     ]
    }
   ],
   "source": [
    "print(bool(None))\n",
    "print(int(True))\n",
    "print(float(1))\n",
    "print(str(1.0))"
   ]
  },
  {
   "cell_type": "markdown",
   "metadata": {
    "slideshow": {
     "slide_type": "subslide"
    }
   },
   "source": [
    "## While downcasting(to a subtype) needs a second look"
   ]
  },
  {
   "cell_type": "code",
   "execution_count": 33,
   "metadata": {},
   "outputs": [
    {
     "name": "stdout",
     "output_type": "stream",
     "text": [
      "1.0\n",
      "1\n",
      "True\n",
      "True\n"
     ]
    }
   ],
   "source": [
    "print(float('1.0'))\n",
    "print(int('1'))\n",
    "print(bool('False'))\n",
    "print(bool('NoneType'))"
   ]
  }
 ],
 "metadata": {
  "celltoolbar": "Slideshow",
  "kernelspec": {
   "display_name": "Python Data Science",
   "language": "python",
   "name": "pyds"
  },
  "language_info": {
   "codemirror_mode": {
    "name": "ipython",
    "version": 3
   },
   "file_extension": ".py",
   "mimetype": "text/x-python",
   "name": "python",
   "nbconvert_exporter": "python",
   "pygments_lexer": "ipython3",
   "version": "3.8.10"
  }
 },
 "nbformat": 4,
 "nbformat_minor": 2
}
