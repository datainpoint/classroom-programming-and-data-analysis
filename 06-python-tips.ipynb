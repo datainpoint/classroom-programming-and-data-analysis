{
 "cells": [
  {
   "cell_type": "markdown",
   "metadata": {
    "slideshow": {
     "slide_type": "slide"
    }
   },
   "source": [
    "# Programming and Data Analysis\n",
    "\n",
    "> Python Tips\n",
    "\n",
    "Kuo, Yao-Jen <yaojenkuo@ntu.edu.tw> from [DATAINPOINT](https://www.datainpoint.com/)"
   ]
  },
  {
   "cell_type": "code",
   "execution_count": 1,
   "metadata": {
    "slideshow": {
     "slide_type": "subslide"
    }
   },
   "outputs": [],
   "source": [
    "from random import randint\n",
    "import csv\n",
    "import json"
   ]
  },
  {
   "cell_type": "markdown",
   "metadata": {
    "slideshow": {
     "slide_type": "slide"
    }
   },
   "source": [
    "## Comprehensions"
   ]
  },
  {
   "cell_type": "markdown",
   "metadata": {
    "slideshow": {
     "slide_type": "subslide"
    }
   },
   "source": [
    "## What are comprehension?\n",
    "\n",
    "> Comprehensions are constructs that allow sequences to be built from other sequences. Python 2.0 introduced list comprehensions and Python 3.0 comes with dictionary and set comprehensions.\n",
    "\n",
    "Source: <https://python-3-patterns-idioms-test.readthedocs.io/en/latest/>"
   ]
  },
  {
   "cell_type": "markdown",
   "metadata": {
    "slideshow": {
     "slide_type": "subslide"
    }
   },
   "source": [
    "## Building a list the traditional way"
   ]
  },
  {
   "cell_type": "code",
   "execution_count": 2,
   "metadata": {},
   "outputs": [
    {
     "name": "stdout",
     "output_type": "stream",
     "text": [
      "[4, 9, 25, 49, 121]\n"
     ]
    }
   ],
   "source": [
    "primes = [2, 3, 5, 7, 11]\n",
    "squared_primes = []\n",
    "for p in primes:\n",
    "    squared_primes.append(p**2)\n",
    "print(squared_primes)"
   ]
  },
  {
   "cell_type": "markdown",
   "metadata": {
    "slideshow": {
     "slide_type": "subslide"
    }
   },
   "source": [
    "## Building a list with list comprehension"
   ]
  },
  {
   "cell_type": "code",
   "execution_count": 3,
   "metadata": {},
   "outputs": [
    {
     "name": "stdout",
     "output_type": "stream",
     "text": [
      "[4, 9, 25, 49, 121]\n"
     ]
    }
   ],
   "source": [
    "primes = [2, 3, 5, 7, 11]\n",
    "squared_primes = [p**2 for p in primes]\n",
    "print(squared_primes)"
   ]
  },
  {
   "cell_type": "markdown",
   "metadata": {
    "slideshow": {
     "slide_type": "subslide"
    }
   },
   "source": [
    "## Building a list with list comprehension and `if` statement"
   ]
  },
  {
   "cell_type": "code",
   "execution_count": 4,
   "metadata": {},
   "outputs": [
    {
     "name": "stdout",
     "output_type": "stream",
     "text": [
      "[37, 94, 13, 18, 58, 19, 44, 59, 9, 48, 98, 60, 76, 75, 90, 11, 85, 21, 24, 33]\n",
      "[37, 13, 19, 59, 9, 75, 11, 85, 21, 33]\n"
     ]
    }
   ],
   "source": [
    "from random import randint\n",
    "\n",
    "random_integers = [randint(1, 100) for _ in range(20)]\n",
    "odds_from_random_integers = [ri for ri in random_integers if ri % 2 == 1]\n",
    "print(random_integers)\n",
    "print(odds_from_random_integers)"
   ]
  },
  {
   "cell_type": "markdown",
   "metadata": {
    "slideshow": {
     "slide_type": "subslide"
    }
   },
   "source": [
    "## Building a list with list comprehension and `if-else` statement"
   ]
  },
  {
   "cell_type": "code",
   "execution_count": 5,
   "metadata": {},
   "outputs": [
    {
     "name": "stdout",
     "output_type": "stream",
     "text": [
      "[33, 42, 53, 1, 66, 42, 48, 89, 97, 82, 11, 69, 80, 44, 88, 45, 60, 1, 52, 40]\n",
      "[True, False, True, True, False, False, False, True, True, False, True, True, False, False, False, True, False, True, False, False]\n"
     ]
    }
   ],
   "source": [
    "random_integers = [randint(1, 100) for _ in range(20)]\n",
    "is_odd_from_random_integers = [True if ri % 2 == 1 else False for ri in random_integers]\n",
    "print(random_integers)\n",
    "print(is_odd_from_random_integers)"
   ]
  },
  {
   "cell_type": "markdown",
   "metadata": {
    "slideshow": {
     "slide_type": "subslide"
    }
   },
   "source": [
    "## Building a set with set comprehension"
   ]
  },
  {
   "cell_type": "code",
   "execution_count": 6,
   "metadata": {},
   "outputs": [
    {
     "name": "stdout",
     "output_type": "stream",
     "text": [
      "{4, 9, 49, 121, 25}\n",
      "<class 'set'>\n"
     ]
    }
   ],
   "source": [
    "primes = {2, 3, 5, 7, 11}\n",
    "squared_primes = {p**2 for p in primes}\n",
    "print(squared_primes)\n",
    "print(type(squared_primes))"
   ]
  },
  {
   "cell_type": "markdown",
   "metadata": {
    "slideshow": {
     "slide_type": "subslide"
    }
   },
   "source": [
    "## Building a dictionary with dictionary comprehension"
   ]
  },
  {
   "cell_type": "code",
   "execution_count": 7,
   "metadata": {},
   "outputs": [
    {
     "name": "stdout",
     "output_type": "stream",
     "text": [
      "{2: 4, 3: 9, 5: 25, 7: 49, 11: 121}\n",
      "<class 'dict'>\n"
     ]
    }
   ],
   "source": [
    "primes = {2, 3, 5, 7, 11}\n",
    "squared_primes = {p: p**2 for p in primes}\n",
    "print(squared_primes)\n",
    "print(type(squared_primes))"
   ]
  },
  {
   "cell_type": "markdown",
   "metadata": {
    "slideshow": {
     "slide_type": "slide"
    }
   },
   "source": [
    "## Generators"
   ]
  },
  {
   "cell_type": "markdown",
   "metadata": {
    "slideshow": {
     "slide_type": "subslide"
    }
   },
   "source": [
    "## What is a generator in Python?\n",
    "\n",
    "> A generator is quite like a list comprehension, the difference is that the result of a list comprehension is a collection of values, while the result of a generator is a recipe for producing values."
   ]
  },
  {
   "cell_type": "markdown",
   "metadata": {
    "slideshow": {
     "slide_type": "subslide"
    }
   },
   "source": [
    "## Sounds pretty abstract, huh?\n",
    "\n",
    "![](https://media.giphy.com/media/iKBYnBTbrUV6gRmwYP/giphy.gif)\n",
    "\n",
    "Source: <https://giphy.com/>"
   ]
  },
  {
   "cell_type": "markdown",
   "metadata": {
    "slideshow": {
     "slide_type": "subslide"
    }
   },
   "source": [
    "## Replace square brackets with parentheses in the previous list comprehension example"
   ]
  },
  {
   "cell_type": "code",
   "execution_count": 8,
   "metadata": {
    "slideshow": {
     "slide_type": "-"
    }
   },
   "outputs": [
    {
     "name": "stdout",
     "output_type": "stream",
     "text": [
      "<generator object <genexpr> at 0x7fdbd2c2aac0>\n",
      "<class 'generator'>\n"
     ]
    }
   ],
   "source": [
    "primes = [2, 3, 5, 7, 11]\n",
    "squared_primes = (p**2 for p in primes)\n",
    "print(squared_primes)\n",
    "print(type(squared_primes))"
   ]
  },
  {
   "cell_type": "markdown",
   "metadata": {
    "slideshow": {
     "slide_type": "subslide"
    }
   },
   "source": [
    "## A generator expression does not actually compute the values until they are needed\n",
    "\n",
    "- This leads to both memory and computational efficiency\n",
    "- However, a generator is single use"
   ]
  },
  {
   "cell_type": "code",
   "execution_count": 9,
   "metadata": {},
   "outputs": [
    {
     "name": "stdout",
     "output_type": "stream",
     "text": [
      "[4, 9, 25, 49, 121]\n",
      "[]\n"
     ]
    }
   ],
   "source": [
    "print(list(squared_primes))\n",
    "print(list(squared_primes))"
   ]
  },
  {
   "cell_type": "markdown",
   "metadata": {
    "slideshow": {
     "slide_type": "slide"
    }
   },
   "source": [
    "## Iterator and Functional Functions"
   ]
  },
  {
   "cell_type": "markdown",
   "metadata": {
    "slideshow": {
     "slide_type": "subslide"
    }
   },
   "source": [
    "## The reason why we mention generators\n",
    "\n",
    "- It is because we want to confuse you (X)\n",
    "- It is because we have to deal with it quite often (O)"
   ]
  },
  {
   "cell_type": "markdown",
   "metadata": {
    "slideshow": {
     "slide_type": "subslide"
    }
   },
   "source": [
    "## Useful built-in iterator functions in Python\n",
    "\n",
    "- `range()`\n",
    "- `enumerate()`\n",
    "- `zip()`"
   ]
  },
  {
   "cell_type": "markdown",
   "metadata": {
    "slideshow": {
     "slide_type": "subslide"
    }
   },
   "source": [
    "## Except for `range` the other two are all generator functions"
   ]
  },
  {
   "cell_type": "code",
   "execution_count": 10,
   "metadata": {
    "slideshow": {
     "slide_type": "subslide"
    }
   },
   "outputs": [
    {
     "name": "stdout",
     "output_type": "stream",
     "text": [
      "Help on class enumerate in module builtins:\n",
      "\n",
      "class enumerate(object)\n",
      " |  enumerate(iterable, start=0)\n",
      " |  \n",
      " |  Return an enumerate object.\n",
      " |  \n",
      " |    iterable\n",
      " |      an object supporting iteration\n",
      " |  \n",
      " |  The enumerate object yields pairs containing a count (from start, which\n",
      " |  defaults to zero) and a value yielded by the iterable argument.\n",
      " |  \n",
      " |  enumerate is useful for obtaining an indexed list:\n",
      " |      (0, seq[0]), (1, seq[1]), (2, seq[2]), ...\n",
      " |  \n",
      " |  Methods defined here:\n",
      " |  \n",
      " |  __getattribute__(self, name, /)\n",
      " |      Return getattr(self, name).\n",
      " |  \n",
      " |  __iter__(self, /)\n",
      " |      Implement iter(self).\n",
      " |  \n",
      " |  __next__(self, /)\n",
      " |      Implement next(self).\n",
      " |  \n",
      " |  __reduce__(...)\n",
      " |      Return state information for pickling.\n",
      " |  \n",
      " |  ----------------------------------------------------------------------\n",
      " |  Static methods defined here:\n",
      " |  \n",
      " |  __new__(*args, **kwargs) from builtins.type\n",
      " |      Create and return a new object.  See help(type) for accurate signature.\n",
      "\n"
     ]
    }
   ],
   "source": [
    "help(enumerate)"
   ]
  },
  {
   "cell_type": "code",
   "execution_count": 11,
   "metadata": {
    "slideshow": {
     "slide_type": "subslide"
    }
   },
   "outputs": [
    {
     "name": "stdout",
     "output_type": "stream",
     "text": [
      "<enumerate object at 0x7fdbd2ca6380>\n",
      "[(0, 'The Avengers'), (1, 'Avengers: Age of Ultron'), (2, 'Avengers: Infinity War'), (3, 'Avengers: Endgame')]\n"
     ]
    }
   ],
   "source": [
    "avenger_movies = ['The Avengers', 'Avengers: Age of Ultron', 'Avengers: Infinity War', 'Avengers: Endgame']\n",
    "print(enumerate(avenger_movies))\n",
    "print(list(enumerate(avenger_movies)))"
   ]
  },
  {
   "cell_type": "code",
   "execution_count": 12,
   "metadata": {
    "slideshow": {
     "slide_type": "subslide"
    }
   },
   "outputs": [
    {
     "name": "stdout",
     "output_type": "stream",
     "text": [
      "Help on class zip in module builtins:\n",
      "\n",
      "class zip(object)\n",
      " |  zip(*iterables) --> A zip object yielding tuples until an input is exhausted.\n",
      " |  \n",
      " |     >>> list(zip('abcdefg', range(3), range(4)))\n",
      " |     [('a', 0, 0), ('b', 1, 1), ('c', 2, 2)]\n",
      " |  \n",
      " |  The zip object yields n-length tuples, where n is the number of iterables\n",
      " |  passed as positional arguments to zip().  The i-th element in every tuple\n",
      " |  comes from the i-th iterable argument to zip().  This continues until the\n",
      " |  shortest argument is exhausted.\n",
      " |  \n",
      " |  Methods defined here:\n",
      " |  \n",
      " |  __getattribute__(self, name, /)\n",
      " |      Return getattr(self, name).\n",
      " |  \n",
      " |  __iter__(self, /)\n",
      " |      Implement iter(self).\n",
      " |  \n",
      " |  __next__(self, /)\n",
      " |      Implement next(self).\n",
      " |  \n",
      " |  __reduce__(...)\n",
      " |      Return state information for pickling.\n",
      " |  \n",
      " |  ----------------------------------------------------------------------\n",
      " |  Static methods defined here:\n",
      " |  \n",
      " |  __new__(*args, **kwargs) from builtins.type\n",
      " |      Create and return a new object.  See help(type) for accurate signature.\n",
      "\n"
     ]
    }
   ],
   "source": [
    "help(zip)"
   ]
  },
  {
   "cell_type": "code",
   "execution_count": 13,
   "metadata": {
    "slideshow": {
     "slide_type": "subslide"
    }
   },
   "outputs": [
    {
     "name": "stdout",
     "output_type": "stream",
     "text": [
      "<zip object at 0x7fdbd2c7ee40>\n",
      "[(2012, 'The Avengers'), (2015, 'Avengers: Age of Ultron'), (2018, 'Avengers: Infinity War'), (2019, 'Avengers: Endgame')]\n"
     ]
    }
   ],
   "source": [
    "avenger_movies = ['The Avengers', 'Avengers: Age of Ultron', 'Avengers: Infinity War', 'Avengers: Endgame']\n",
    "release_years = [2012, 2015, 2018, 2019]\n",
    "print(zip(release_years, avenger_movies))\n",
    "print(list(zip(release_years, avenger_movies)))"
   ]
  },
  {
   "cell_type": "markdown",
   "metadata": {
    "slideshow": {
     "slide_type": "subslide"
    }
   },
   "source": [
    "## Useful functional functions\n",
    "\n",
    "- `map()`\n",
    "- `filter()`"
   ]
  },
  {
   "cell_type": "markdown",
   "metadata": {
    "slideshow": {
     "slide_type": "subslide"
    }
   },
   "source": [
    "## What are functional functions?\n",
    "\n",
    "> Functional functions are functions constructed by applying and composing functions. One of the characteristics of functional functions are functions can be passed as arguments.\n",
    "\n",
    "Source: <https://en.wikipedia.org/wiki/Functional_programming>"
   ]
  },
  {
   "cell_type": "code",
   "execution_count": 14,
   "metadata": {
    "slideshow": {
     "slide_type": "subslide"
    }
   },
   "outputs": [
    {
     "name": "stdout",
     "output_type": "stream",
     "text": [
      "Help on class map in module builtins:\n",
      "\n",
      "class map(object)\n",
      " |  map(func, *iterables) --> map object\n",
      " |  \n",
      " |  Make an iterator that computes the function using arguments from\n",
      " |  each of the iterables.  Stops when the shortest iterable is exhausted.\n",
      " |  \n",
      " |  Methods defined here:\n",
      " |  \n",
      " |  __getattribute__(self, name, /)\n",
      " |      Return getattr(self, name).\n",
      " |  \n",
      " |  __iter__(self, /)\n",
      " |      Implement iter(self).\n",
      " |  \n",
      " |  __next__(self, /)\n",
      " |      Implement next(self).\n",
      " |  \n",
      " |  __reduce__(...)\n",
      " |      Return state information for pickling.\n",
      " |  \n",
      " |  ----------------------------------------------------------------------\n",
      " |  Static methods defined here:\n",
      " |  \n",
      " |  __new__(*args, **kwargs) from builtins.type\n",
      " |      Create and return a new object.  See help(type) for accurate signature.\n",
      "\n"
     ]
    }
   ],
   "source": [
    "help(map)"
   ]
  },
  {
   "cell_type": "code",
   "execution_count": 15,
   "metadata": {
    "slideshow": {
     "slide_type": "subslide"
    }
   },
   "outputs": [
    {
     "name": "stdout",
     "output_type": "stream",
     "text": [
      "<map object at 0x7fdbd2ca36d0>\n",
      "[0.0, 1.0, 2.0, 3.0, 4.0, 5.0, 6.0, 7.0, 8.0, 9.0]\n"
     ]
    }
   ],
   "source": [
    "print(map(float, range(10)))\n",
    "print(list(map(float, range(10))))"
   ]
  },
  {
   "cell_type": "code",
   "execution_count": 16,
   "metadata": {
    "slideshow": {
     "slide_type": "subslide"
    }
   },
   "outputs": [
    {
     "name": "stdout",
     "output_type": "stream",
     "text": [
      "Help on class filter in module builtins:\n",
      "\n",
      "class filter(object)\n",
      " |  filter(function or None, iterable) --> filter object\n",
      " |  \n",
      " |  Return an iterator yielding those items of iterable for which function(item)\n",
      " |  is true. If function is None, return the items that are true.\n",
      " |  \n",
      " |  Methods defined here:\n",
      " |  \n",
      " |  __getattribute__(self, name, /)\n",
      " |      Return getattr(self, name).\n",
      " |  \n",
      " |  __iter__(self, /)\n",
      " |      Implement iter(self).\n",
      " |  \n",
      " |  __next__(self, /)\n",
      " |      Implement next(self).\n",
      " |  \n",
      " |  __reduce__(...)\n",
      " |      Return state information for pickling.\n",
      " |  \n",
      " |  ----------------------------------------------------------------------\n",
      " |  Static methods defined here:\n",
      " |  \n",
      " |  __new__(*args, **kwargs) from builtins.type\n",
      " |      Create and return a new object.  See help(type) for accurate signature.\n",
      "\n"
     ]
    }
   ],
   "source": [
    "help(filter)"
   ]
  },
  {
   "cell_type": "code",
   "execution_count": 17,
   "metadata": {
    "slideshow": {
     "slide_type": "subslide"
    }
   },
   "outputs": [
    {
     "name": "stdout",
     "output_type": "stream",
     "text": [
      "[False, True, False, True, False, True, True, False, True, True, False, True, False, True, True, True, True, False, True, False]\n",
      "<filter object at 0x7fdbd2cadc70>\n",
      "[True, True, True, True, True, True, True, True, True, True, True, True]\n"
     ]
    }
   ],
   "source": [
    "random_bools = [bool(randint(0, 1)) for _ in range(20)]\n",
    "print(random_bools)\n",
    "print(filter(None, random_bools))\n",
    "print(list(filter(None, random_bools)))"
   ]
  },
  {
   "cell_type": "markdown",
   "metadata": {
    "slideshow": {
     "slide_type": "subslide"
    }
   },
   "source": [
    "## Besides built-in functions, it is A LOT more common to define our own functions"
   ]
  },
  {
   "cell_type": "code",
   "execution_count": 18,
   "metadata": {
    "slideshow": {
     "slide_type": "-"
    }
   },
   "outputs": [
    {
     "name": "stdout",
     "output_type": "stream",
     "text": [
      "[4, 9, 25, 49, 121]\n",
      "[11]\n"
     ]
    }
   ],
   "source": [
    "def squared(x):\n",
    "    return x**2\n",
    "def larger_than_ten(x):\n",
    "    return x>=10\n",
    "print(list(map(squared, primes)))\n",
    "print(list(filter(larger_than_ten, primes)))"
   ]
  },
  {
   "cell_type": "markdown",
   "metadata": {
    "slideshow": {
     "slide_type": "subslide"
    }
   },
   "source": [
    "## It is more convenient to define a disposable function with lambda expression with `map` and `filter`\n",
    "\n",
    "- A lambda expression is like an anonymous function\n",
    "- We can define a lambda expression, use it, then ditch it all in the same line"
   ]
  },
  {
   "cell_type": "code",
   "execution_count": 19,
   "metadata": {
    "slideshow": {
     "slide_type": "subslide"
    }
   },
   "outputs": [
    {
     "name": "stdout",
     "output_type": "stream",
     "text": [
      "[4, 9, 25, 49, 121, 169, 289, 361, 529, 841]\n",
      "[11, 13, 17, 19, 23, 29]\n"
     ]
    }
   ],
   "source": [
    "primes = [2, 3, 5, 7, 11, 13, 17, 19, 23, 29]\n",
    "print(list(map(lambda x: x**2, primes)))        # so we don't waste a function name for an easy operation\n",
    "print(list(filter(lambda x: x >= 10, primes)))  # so we don't waste a function name for an easy operation"
   ]
  },
  {
   "cell_type": "markdown",
   "metadata": {
    "slideshow": {
     "slide_type": "slide"
    }
   },
   "source": [
    "## Importing Files"
   ]
  },
  {
   "cell_type": "markdown",
   "metadata": {
    "slideshow": {
     "slide_type": "subslide"
    }
   },
   "source": [
    "## Dealing with text files with extensions\n",
    "\n",
    "- `.txt`\n",
    "- `.csv`\n",
    "- `.json`"
   ]
  },
  {
   "cell_type": "markdown",
   "metadata": {
    "slideshow": {
     "slide_type": "subslide"
    }
   },
   "source": [
    "## Open file with built-in function `open(file_path, \"r\")`\n",
    "\n",
    "```python\n",
    "file = open(file_path, \"r\")\n",
    "# ...\n",
    "# ...\n",
    "file.close()\n",
    "```"
   ]
  },
  {
   "cell_type": "markdown",
   "metadata": {
    "slideshow": {
     "slide_type": "subslide"
    }
   },
   "source": [
    "## Using `with` as a context manager\n",
    "\n",
    "```python\n",
    "with open(file_path, \"r\") as file:\n",
    "    # ...\n",
    "    # ...\n",
    "```"
   ]
  },
  {
   "cell_type": "code",
   "execution_count": 20,
   "metadata": {
    "slideshow": {
     "slide_type": "subslide"
    }
   },
   "outputs": [
    {
     "name": "stdout",
     "output_type": "stream",
     "text": [
      "Two imprisoned men bond over a number of years, finding solace and eventual redemption through acts of common decency.\n",
      "\n",
      "Chronicles the experiences of a formerly successful banker as a prisoner in the gloomy jailhouse of Shawshank after being found guilty of a crime he did not commit. The film portrays the man's unique way of dealing with his new, torturous life; along the way he befriends a number of fellow prisoners, most notably a wise long-term inmate named Red.\n",
      "\n",
      "After the murder of his wife, hotshot banker Andrew Dufresne is sent to Shawshank Prison, where the usual unpleasantness occurs. Over the years, he retains hope and eventually gains the respect of his fellow inmates, especially longtime convict \"Red\" Redding, a black marketeer, and becomes influential within the prison. Eventually, Andrew achieves his ends on his own terms.\n",
      "\n",
      "Andy Dufresne is sent to Shawshank Prison for the murder of his wife and her secret lover. He is very isolated and lonely at first, but realizes there is something deep inside your body that people can't touch or get to....'HOPE'. Andy becomes friends with prison 'fixer' Red, and Andy epitomizes why it is crucial to have dreams. His spirit and determination lead us into a world full of imagination, one filled with courage and desire. Will Andy ever realize his dreams?\n",
      "\n",
      "Bank Merchant Andy Dufresne is convicted of the murder of his wife and her lover, and sentenced to life imprisonment at Shawshank prison. Life seems to have taken a turn for the worse, but fortunately Andy befriends some of the other inmates, in particular a character known only as Red. Over time Andy finds ways to live out life with relative ease as one can in a prison, leaving a message for all that while the body may be locked away in a cell, the spirit can never be truly imprisoned.\n"
     ]
    }
   ],
   "source": [
    "with open(\"data/the_shawshank_redemption_summaries.txt\", \"r\") as file:\n",
    "    the_shawshank_redemption_summaries = file.readlines()\n",
    "for e in the_shawshank_redemption_summaries:\n",
    "    print(e)"
   ]
  },
  {
   "cell_type": "code",
   "execution_count": 21,
   "metadata": {
    "slideshow": {
     "slide_type": "subslide"
    }
   },
   "outputs": [
    {
     "name": "stdout",
     "output_type": "stream",
     "text": [
      "{'rank': '1', 'title': 'The Shawshank Redemption', 'year': '1994', 'rating': '9.2'}\n",
      "{'rank': '2', 'title': 'The Godfather', 'year': '1972', 'rating': '9.1'}\n",
      "{'rank': '3', 'title': 'The Godfather: Part II', 'year': '1974', 'rating': '9.0'}\n",
      "{'rank': '4', 'title': 'The Dark Knight', 'year': '2008', 'rating': '9.0'}\n",
      "{'rank': '5', 'title': '12 Angry Men', 'year': '1957', 'rating': '8.9'}\n",
      "{'rank': '6', 'title': \"Schindler's List\", 'year': '1993', 'rating': '8.9'}\n",
      "{'rank': '7', 'title': 'The Lord of the Rings: The Return of the King', 'year': '2003', 'rating': '8.9'}\n",
      "{'rank': '8', 'title': 'Pulp Fiction', 'year': '1994', 'rating': '8.8'}\n",
      "{'rank': '9', 'title': 'The Good, the Bad and the Ugly', 'year': '1966', 'rating': '8.8'}\n",
      "{'rank': '10', 'title': 'The Lord of the Rings: The Fellowship of the Ring', 'year': '2001', 'rating': '8.8'}\n",
      "{'rank': '11', 'title': 'Fight Club', 'year': '1999', 'rating': '8.8'}\n",
      "{'rank': '12', 'title': 'Forrest Gump', 'year': '1994', 'rating': '8.7'}\n",
      "{'rank': '13', 'title': 'Inception', 'year': '2010', 'rating': '8.7'}\n",
      "{'rank': '14', 'title': 'The Lord of the Rings: The Two Towers', 'year': '2002', 'rating': '8.7'}\n",
      "{'rank': '15', 'title': 'Star Wars: Episode V - The Empire Strikes Back', 'year': '1980', 'rating': '8.7'}\n",
      "{'rank': '16', 'title': 'The Matrix', 'year': '1999', 'rating': '8.6'}\n",
      "{'rank': '17', 'title': 'Goodfellas', 'year': '1990', 'rating': '8.6'}\n",
      "{'rank': '18', 'title': \"One Flew Over the Cuckoo's Nest\", 'year': '1975', 'rating': '8.6'}\n",
      "{'rank': '19', 'title': 'Seven Samurai', 'year': '1954', 'rating': '8.6'}\n",
      "{'rank': '20', 'title': 'Se7en', 'year': '1995', 'rating': '8.6'}\n",
      "{'rank': '21', 'title': 'The Silence of the Lambs', 'year': '1991', 'rating': '8.6'}\n",
      "{'rank': '22', 'title': 'City of God', 'year': '2002', 'rating': '8.6'}\n",
      "{'rank': '23', 'title': 'Life Is Beautiful', 'year': '1997', 'rating': '8.6'}\n",
      "{'rank': '24', 'title': \"It's a Wonderful Life\", 'year': '1946', 'rating': '8.6'}\n",
      "{'rank': '25', 'title': 'Star Wars: Episode IV - A New Hope', 'year': '1977', 'rating': '8.6'}\n",
      "{'rank': '26', 'title': 'Saving Private Ryan', 'year': '1998', 'rating': '8.5'}\n",
      "{'rank': '27', 'title': 'Interstellar', 'year': '2014', 'rating': '8.5'}\n",
      "{'rank': '28', 'title': 'Spirited Away', 'year': '2001', 'rating': '8.5'}\n",
      "{'rank': '29', 'title': 'The Green Mile', 'year': '1999', 'rating': '8.5'}\n",
      "{'rank': '30', 'title': 'Parasite', 'year': '2019', 'rating': '8.5'}\n",
      "{'rank': '31', 'title': 'Léon: The Professional', 'year': '1994', 'rating': '8.5'}\n",
      "{'rank': '32', 'title': 'Hara-Kiri', 'year': '1962', 'rating': '8.5'}\n",
      "{'rank': '33', 'title': 'The Pianist', 'year': '2002', 'rating': '8.5'}\n",
      "{'rank': '34', 'title': 'The Usual Suspects', 'year': '1995', 'rating': '8.5'}\n",
      "{'rank': '35', 'title': 'Terminator 2: Judgment Day', 'year': '1991', 'rating': '8.5'}\n",
      "{'rank': '36', 'title': 'Back to the Future', 'year': '1985', 'rating': '8.5'}\n",
      "{'rank': '37', 'title': 'Psycho', 'year': '1960', 'rating': '8.5'}\n",
      "{'rank': '38', 'title': 'The Lion King', 'year': '1994', 'rating': '8.5'}\n",
      "{'rank': '39', 'title': 'Modern Times', 'year': '1936', 'rating': '8.5'}\n",
      "{'rank': '40', 'title': 'American History X', 'year': '1998', 'rating': '8.5'}\n",
      "{'rank': '41', 'title': 'City Lights', 'year': '1931', 'rating': '8.5'}\n",
      "{'rank': '42', 'title': 'Grave of the Fireflies', 'year': '1988', 'rating': '8.5'}\n",
      "{'rank': '43', 'title': 'Whiplash', 'year': '2014', 'rating': '8.5'}\n",
      "{'rank': '44', 'title': 'Gladiator', 'year': '2000', 'rating': '8.5'}\n",
      "{'rank': '45', 'title': 'The Departed', 'year': '2006', 'rating': '8.5'}\n",
      "{'rank': '46', 'title': 'The Intouchables', 'year': '2011', 'rating': '8.5'}\n",
      "{'rank': '47', 'title': 'The Prestige', 'year': '2006', 'rating': '8.5'}\n",
      "{'rank': '48', 'title': 'Casablanca', 'year': '1942', 'rating': '8.4'}\n",
      "{'rank': '49', 'title': 'Once Upon a Time in the West', 'year': '1968', 'rating': '8.4'}\n",
      "{'rank': '50', 'title': 'Rear Window', 'year': '1954', 'rating': '8.4'}\n",
      "{'rank': '51', 'title': 'Cinema Paradiso', 'year': '1988', 'rating': '8.4'}\n",
      "{'rank': '52', 'title': 'Alien', 'year': '1979', 'rating': '8.4'}\n",
      "{'rank': '53', 'title': 'Apocalypse Now', 'year': '1979', 'rating': '8.4'}\n",
      "{'rank': '54', 'title': 'Memento', 'year': '2000', 'rating': '8.4'}\n",
      "{'rank': '55', 'title': 'Indiana Jones and the Raiders of the Lost Ark', 'year': '1981', 'rating': '8.4'}\n",
      "{'rank': '56', 'title': 'The Great Dictator', 'year': '1940', 'rating': '8.4'}\n",
      "{'rank': '57', 'title': 'The Lives of Others', 'year': '2006', 'rating': '8.4'}\n",
      "{'rank': '58', 'title': 'Django Unchained', 'year': '2012', 'rating': '8.4'}\n",
      "{'rank': '59', 'title': 'Paths of Glory', 'year': '1957', 'rating': '8.4'}\n",
      "{'rank': '60', 'title': '', 'year': '1950', 'rating': '8.4'}\n",
      "{'rank': '61', 'title': 'WALL·E', 'year': '2008', 'rating': '8.4'}\n",
      "{'rank': '62', 'title': 'Avengers: Infinity War', 'year': '2018', 'rating': '8.4'}\n",
      "{'rank': '63', 'title': 'The Shining', 'year': '1980', 'rating': '8.4'}\n",
      "{'rank': '64', 'title': 'Witness for the Prosecution', 'year': '1957', 'rating': '8.4'}\n",
      "{'rank': '65', 'title': 'Spider-Man: Into the Spider-Verse', 'year': '2018', 'rating': '8.4'}\n",
      "{'rank': '66', 'title': 'Strangelove or: How I Learned to Stop Worrying and Love the Bomb ', 'year': '1964', 'rating': '8.4'}\n",
      "{'rank': '67', 'title': 'Joker', 'year': '2019', 'rating': '8.3'}\n",
      "{'rank': '68', 'title': 'Princess Mononoke', 'year': '1997', 'rating': '8.3'}\n",
      "{'rank': '69', 'title': 'Oldboy', 'year': '2003', 'rating': '8.3'}\n",
      "{'rank': '70', 'title': '', 'year': '2016', 'rating': '8.3'}\n",
      "{'rank': '71', 'title': 'The Dark Knight Rises', 'year': '2012', 'rating': '8.3'}\n",
      "{'rank': '72', 'title': 'Once Upon a Time in America', 'year': '1984', 'rating': '8.3'}\n",
      "{'rank': '73', 'title': 'Coco', 'year': '2017', 'rating': '8.3'}\n",
      "{'rank': '74', 'title': 'Aliens', 'year': '1986', 'rating': '8.3'}\n",
      "{'rank': '75', 'title': 'Capharnaüm', 'year': '2018', 'rating': '8.3'}\n",
      "{'rank': '76', 'title': 'Avengers: Endgame', 'year': '2019', 'rating': '8.3'}\n",
      "{'rank': '77', 'title': 'Das Boot', 'year': '1981', 'rating': '8.3'}\n",
      "{'rank': '78', 'title': 'Hamilton', 'year': '2020', 'rating': '8.3'}\n",
      "{'rank': '79', 'title': 'High and Low', 'year': '1963', 'rating': '8.3'}\n",
      "{'rank': '80', 'title': 'American Beauty', 'year': '1999', 'rating': '8.3'}\n",
      "{'rank': '81', 'title': 'Toy Story', 'year': '1995', 'rating': '8.3'}\n",
      "{'rank': '82', 'title': '3 Idiots', 'year': '2009', 'rating': '8.3'}\n",
      "{'rank': '83', 'title': 'Amadeus', 'year': '1984', 'rating': '8.3'}\n",
      "{'rank': '84', 'title': 'Braveheart', 'year': '1995', 'rating': '8.3'}\n",
      "{'rank': '85', 'title': 'Inglourious Basterds', 'year': '2009', 'rating': '8.3'}\n",
      "{'rank': '86', 'title': 'Good Will Hunting', 'year': '1997', 'rating': '8.3'}\n",
      "{'rank': '87', 'title': 'Star Wars: Episode VI - Return of the Jedi', 'year': '1983', 'rating': '8.3'}\n",
      "{'rank': '88', 'title': '2001: A Space Odyssey', 'year': '1968', 'rating': '8.3'}\n",
      "{'rank': '89', 'title': 'Reservoir Dogs', 'year': '1992', 'rating': '8.3'}\n",
      "{'rank': '90', 'title': 'M', 'year': '1931', 'rating': '8.3'}\n",
      "{'rank': '91', 'title': 'Like Stars on Earth', 'year': '2007', 'rating': '8.3'}\n",
      "{'rank': '92', 'title': 'Vertigo', 'year': '1958', 'rating': '8.3'}\n",
      "{'rank': '93', 'title': 'Citizen Kane', 'year': '1941', 'rating': '8.3'}\n",
      "{'rank': '94', 'title': 'Come and See', 'year': '1985', 'rating': '8.3'}\n",
      "{'rank': '95', 'title': 'The Hunt', 'year': '2012', 'rating': '8.3'}\n",
      "{'rank': '96', 'title': 'Requiem for a Dream', 'year': '2000', 'rating': '8.3'}\n",
      "{'rank': '97', 'title': \"Singin' in the Rain\", 'year': '1952', 'rating': '8.3'}\n",
      "{'rank': '98', 'title': 'North by Northwest', 'year': '1959', 'rating': '8.3'}\n",
      "{'rank': '99', 'title': 'Eternal Sunshine of the Spotless Mind', 'year': '2004', 'rating': '8.3'}\n",
      "{'rank': '100', 'title': 'Bicycle Thieves', 'year': '1948', 'rating': '8.3'}\n",
      "{'rank': '101', 'title': 'Ikiru', 'year': '1952', 'rating': '8.3'}\n",
      "{'rank': '102', 'title': 'Dune', 'year': '2021', 'rating': '8.3'}\n",
      "{'rank': '103', 'title': 'Pather Panchali', 'year': '1955', 'rating': '8.3'}\n",
      "{'rank': '104', 'title': 'Lawrence of Arabia', 'year': '1962', 'rating': '8.2'}\n",
      "{'rank': '105', 'title': 'The Kid', 'year': '1921', 'rating': '8.2'}\n",
      "{'rank': '106', 'title': 'Full Metal Jacket', 'year': '1987', 'rating': '8.2'}\n",
      "{'rank': '107', 'title': 'Dangal', 'year': '2016', 'rating': '8.2'}\n",
      "{'rank': '108', 'title': 'The Father', 'year': '2020', 'rating': '8.2'}\n",
      "{'rank': '109', 'title': 'The Apartment', 'year': '1960', 'rating': '8.2'}\n",
      "{'rank': '110', 'title': 'A Clockwork Orange', 'year': '1971', 'rating': '8.2'}\n",
      "{'rank': '111', 'title': 'Metropolis', 'year': '1927', 'rating': '8.2'}\n",
      "{'rank': '112', 'title': 'Taxi Driver', 'year': '1976', 'rating': '8.2'}\n",
      "{'rank': '113', 'title': 'Incendies', 'year': '2010', 'rating': '8.2'}\n",
      "{'rank': '114', 'title': 'Double Indemnity', 'year': '1944', 'rating': '8.2'}\n",
      "{'rank': '115', 'title': 'The Sting', 'year': '1973', 'rating': '8.2'}\n",
      "{'rank': '116', 'title': 'A Separation', 'year': '2011', 'rating': '8.2'}\n",
      "{'rank': '117', 'title': 'Scarface', 'year': '1983', 'rating': '8.2'}\n",
      "{'rank': '118', 'title': '1917', 'year': '2019', 'rating': '8.2'}\n",
      "{'rank': '119', 'title': 'Snatch', 'year': '2000', 'rating': '8.2'}\n",
      "{'rank': '120', 'title': 'Amélie', 'year': '2001', 'rating': '8.2'}\n",
      "{'rank': '121', 'title': 'Toy Story 3', 'year': '2010', 'rating': '8.2'}\n",
      "{'rank': '122', 'title': 'To Kill a Mockingbird', 'year': '1962', 'rating': '8.2'}\n",
      "{'rank': '123', 'title': 'For a Few Dollars More', 'year': '1965', 'rating': '8.2'}\n",
      "{'rank': '124', 'title': 'Up', 'year': '2009', 'rating': '8.2'}\n",
      "{'rank': '125', 'title': 'Indiana Jones and the Last Crusade', 'year': '1989', 'rating': '8.2'}\n",
      "{'rank': '126', 'title': 'Confidential ', 'year': '1997', 'rating': '8.2'}\n",
      "{'rank': '127', 'title': 'Heat', 'year': '1995', 'rating': '8.2'}\n",
      "{'rank': '128', 'title': 'Yojimbo', 'year': '1961', 'rating': '8.2'}\n",
      "{'rank': '129', 'title': 'Rashomon', 'year': '1950', 'rating': '8.2'}\n",
      "{'rank': '130', 'title': 'Ran', 'year': '1985', 'rating': '8.2'}\n",
      "{'rank': '131', 'title': 'Die Hard', 'year': '1988', 'rating': '8.2'}\n",
      "{'rank': '132', 'title': 'Green Book', 'year': '2018', 'rating': '8.2'}\n",
      "{'rank': '133', 'title': 'Downfall', 'year': '2004', 'rating': '8.2'}\n",
      "{'rank': '134', 'title': 'Monty Python and the Holy Grail', 'year': '1975', 'rating': '8.2'}\n",
      "{'rank': '135', 'title': 'All About Eve', 'year': '1950', 'rating': '8.2'}\n",
      "{'rank': '136', 'title': 'Some Like It Hot', 'year': '1959', 'rating': '8.2'}\n",
      "{'rank': '137', 'title': 'Batman Begins', 'year': '2005', 'rating': '8.2'}\n",
      "{'rank': '138', 'title': 'Unforgiven', 'year': '1992', 'rating': '8.2'}\n",
      "{'rank': '139', 'title': 'Children of Heaven', 'year': '1997', 'rating': '8.2'}\n",
      "{'rank': '140', 'title': \"Howl's Moving Castle\", 'year': '2004', 'rating': '8.2'}\n",
      "{'rank': '141', 'title': 'The Wolf of Wall Street', 'year': '2013', 'rating': '8.2'}\n",
      "{'rank': '142', 'title': 'Judgment at Nuremberg', 'year': '1961', 'rating': '8.2'}\n",
      "{'rank': '143', 'title': 'The Great Escape', 'year': '1963', 'rating': '8.2'}\n",
      "{'rank': '144', 'title': 'Casino', 'year': '1995', 'rating': '8.2'}\n"
     ]
    },
    {
     "name": "stdout",
     "output_type": "stream",
     "text": [
      "{'rank': '145', 'title': 'There Will Be Blood', 'year': '2007', 'rating': '8.2'}\n",
      "{'rank': '146', 'title': 'The Treasure of the Sierra Madre', 'year': '1948', 'rating': '8.2'}\n",
      "{'rank': '147', 'title': \"Pan's Labyrinth\", 'year': '2006', 'rating': '8.1'}\n",
      "{'rank': '148', 'title': 'A Beautiful Mind', 'year': '2001', 'rating': '8.1'}\n",
      "{'rank': '149', 'title': 'The Secret in Their Eyes', 'year': '2009', 'rating': '8.1'}\n",
      "{'rank': '150', 'title': 'Raging Bull', 'year': '1980', 'rating': '8.1'}\n",
      "{'rank': '151', 'title': 'My Neighbor Totoro', 'year': '1988', 'rating': '8.1'}\n",
      "{'rank': '152', 'title': 'Chinatown', 'year': '1974', 'rating': '8.1'}\n",
      "{'rank': '153', 'title': 'Lock, Stock and Two Smoking Barrels', 'year': '1998', 'rating': '8.1'}\n",
      "{'rank': '154', 'title': 'The Gold Rush', 'year': '1925', 'rating': '8.1'}\n",
      "{'rank': '155', 'title': 'Shutter Island', 'year': '2010', 'rating': '8.1'}\n",
      "{'rank': '156', 'title': 'No Country for Old Men', 'year': '2007', 'rating': '8.1'}\n",
      "{'rank': '157', 'title': 'Dial M for Murder', 'year': '1954', 'rating': '8.1'}\n",
      "{'rank': '158', 'title': 'The Seventh Seal', 'year': '1957', 'rating': '8.1'}\n",
      "{'rank': '159', 'title': 'Three Billboards Outside Ebbing, Missouri', 'year': '2017', 'rating': '8.1'}\n",
      "{'rank': '160', 'title': 'The Elephant Man', 'year': '1980', 'rating': '8.1'}\n",
      "{'rank': '161', 'title': 'The Thing', 'year': '1982', 'rating': '8.1'}\n",
      "{'rank': '162', 'title': 'The Sixth Sense', 'year': '1999', 'rating': '8.1'}\n",
      "{'rank': '163', 'title': 'Klaus', 'year': '2019', 'rating': '8.1'}\n",
      "{'rank': '164', 'title': 'The Third Man', 'year': '1949', 'rating': '8.1'}\n",
      "{'rank': '165', 'title': 'Wild Strawberries', 'year': '1957', 'rating': '8.1'}\n",
      "{'rank': '166', 'title': 'V for Vendetta', 'year': '2005', 'rating': '8.1'}\n",
      "{'rank': '167', 'title': 'Jurassic Park', 'year': '1993', 'rating': '8.1'}\n",
      "{'rank': '168', 'title': 'The Truman Show', 'year': '1998', 'rating': '8.1'}\n",
      "{'rank': '169', 'title': 'Inside Out', 'year': '2015', 'rating': '8.1'}\n",
      "{'rank': '170', 'title': 'Memories of Murder', 'year': '2003', 'rating': '8.1'}\n",
      "{'rank': '171', 'title': 'Blade Runner', 'year': '1982', 'rating': '8.1'}\n",
      "{'rank': '172', 'title': 'Trainspotting', 'year': '1996', 'rating': '8.1'}\n",
      "{'rank': '173', 'title': 'The Bridge on the River Kwai', 'year': '1957', 'rating': '8.1'}\n",
      "{'rank': '174', 'title': 'Fargo', 'year': '1996', 'rating': '8.1'}\n",
      "{'rank': '175', 'title': 'Warrior', 'year': '2011', 'rating': '8.1'}\n",
      "{'rank': '176', 'title': 'Finding Nemo', 'year': '2003', 'rating': '8.1'}\n",
      "{'rank': '177', 'title': '1 ', 'year': '2003', 'rating': '8.1'}\n",
      "{'rank': '178', 'title': 'Gone with the Wind', 'year': '1939', 'rating': '8.1'}\n",
      "{'rank': '179', 'title': 'Z', 'year': '1969', 'rating': '8.1'}\n",
      "{'rank': '180', 'title': 'Tokyo Story', 'year': '1953', 'rating': '8.1'}\n",
      "{'rank': '181', 'title': 'My Father and My Son', 'year': '2005', 'rating': '8.1'}\n",
      "{'rank': '182', 'title': 'On the Waterfront', 'year': '1954', 'rating': '8.1'}\n",
      "{'rank': '183', 'title': 'Stalker', 'year': '1979', 'rating': '8.1'}\n",
      "{'rank': '184', 'title': 'Wild Tales', 'year': '2014', 'rating': '8.1'}\n",
      "{'rank': '185', 'title': '', 'year': '1924', 'rating': '8.1'}\n",
      "{'rank': '186', 'title': 'The General', 'year': '1926', 'rating': '8.1'}\n",
      "{'rank': '187', 'title': 'The Deer Hunter', 'year': '1978', 'rating': '8.1'}\n",
      "{'rank': '188', 'title': 'Gran Torino', 'year': '2008', 'rating': '8.1'}\n",
      "{'rank': '189', 'title': 'Persona', 'year': '1966', 'rating': '8.1'}\n",
      "{'rank': '190', 'title': 'The Grand Budapest Hotel', 'year': '2014', 'rating': '8.1'}\n",
      "{'rank': '191', 'title': 'Prisoners', 'year': '2013', 'rating': '8.1'}\n",
      "{'rank': '192', 'title': 'Before Sunrise', 'year': '1995', 'rating': '8.1'}\n",
      "{'rank': '193', 'title': 'Mary and Max', 'year': '2009', 'rating': '8.1'}\n",
      "{'rank': '194', 'title': 'Smith Goes to Washington ', 'year': '1939', 'rating': '8.1'}\n",
      "{'rank': '195', 'title': 'Room', 'year': '2015', 'rating': '8.1'}\n",
      "{'rank': '196', 'title': 'In the Name of the Father', 'year': '1993', 'rating': '8.1'}\n",
      "{'rank': '197', 'title': 'Catch Me If You Can', 'year': '2002', 'rating': '8.1'}\n",
      "{'rank': '198', 'title': 'Barry Lyndon', 'year': '1975', 'rating': '8.1'}\n",
      "{'rank': '199', 'title': 'Gone Girl', 'year': '2014', 'rating': '8.1'}\n",
      "{'rank': '200', 'title': 'Hacksaw Ridge', 'year': '2016', 'rating': '8.1'}\n",
      "{'rank': '201', 'title': 'Andhadhun', 'year': '2018', 'rating': '8.1'}\n",
      "{'rank': '202', 'title': 'The Passion of Joan of Arc', 'year': '1928', 'rating': '8.1'}\n",
      "{'rank': '203', 'title': 'To Be or Not to Be', 'year': '1942', 'rating': '8.1'}\n",
      "{'rank': '204', 'title': 'Ford v Ferrari', 'year': '2019', 'rating': '8.1'}\n",
      "{'rank': '205', 'title': '12 Years a Slave', 'year': '2013', 'rating': '8.1'}\n",
      "{'rank': '206', 'title': 'The Big Lebowski', 'year': '1998', 'rating': '8.1'}\n",
      "{'rank': '207', 'title': 'How to Train Your Dragon', 'year': '2010', 'rating': '8.1'}\n",
      "{'rank': '208', 'title': 'Mad Max: Fury Road', 'year': '2015', 'rating': '8.1'}\n",
      "{'rank': '209', 'title': 'Dead Poets Society', 'year': '1989', 'rating': '8.1'}\n",
      "{'rank': '210', 'title': 'Autumn Sonata', 'year': '1978', 'rating': '8.1'}\n",
      "{'rank': '211', 'title': 'Ben-Hur', 'year': '1959', 'rating': '8.1'}\n",
      "{'rank': '212', 'title': 'Million Dollar Baby', 'year': '2004', 'rating': '8.1'}\n",
      "{'rank': '213', 'title': 'The Wages of Fear', 'year': '1953', 'rating': '8.1'}\n",
      "{'rank': '214', 'title': 'Harry Potter and the Deathly Hallows: Part 2', 'year': '2011', 'rating': '8.1'}\n",
      "{'rank': '215', 'title': 'Stand by Me', 'year': '1986', 'rating': '8.1'}\n",
      "{'rank': '216', 'title': 'The Handmaiden', 'year': '2016', 'rating': '8.1'}\n",
      "{'rank': '217', 'title': 'Network', 'year': '1976', 'rating': '8.1'}\n",
      "{'rank': '218', 'title': 'Logan', 'year': '2017', 'rating': '8.1'}\n",
      "{'rank': '219', 'title': 'Cool Hand Luke', 'year': '1967', 'rating': '8.1'}\n",
      "{'rank': '220', 'title': 'The 400 Blows', 'year': '1959', 'rating': '8.1'}\n",
      "{'rank': '221', 'title': 'Gangs of Wasseypur', 'year': '2012', 'rating': '8.0'}\n",
      "{'rank': '222', 'title': \"Hachi: A Dog's Tale\", 'year': '2009', 'rating': '8.0'}\n",
      "{'rank': '223', 'title': 'La Haine', 'year': '1995', 'rating': '8.0'}\n",
      "{'rank': '224', 'title': 'Platoon', 'year': '1986', 'rating': '8.0'}\n",
      "{'rank': '225', 'title': 'The Bandit', 'year': '1996', 'rating': '8.0'}\n",
      "{'rank': '226', 'title': 'Spotlight', 'year': '2015', 'rating': '8.0'}\n",
      "{'rank': '227', 'title': 'A Silent Voice: The Movie', 'year': '2016', 'rating': '8.0'}\n",
      "{'rank': '228', 'title': \"Monty Python's Life of Brian\", 'year': '1979', 'rating': '8.0'}\n",
      "{'rank': '229', 'title': 'Rebecca', 'year': '1940', 'rating': '8.0'}\n",
      "{'rank': '230', 'title': '', 'year': '2001', 'rating': '8.0'}\n",
      "{'rank': '231', 'title': 'Hotel Rwanda', 'year': '2004', 'rating': '8.0'}\n",
      "{'rank': '232', 'title': 'In the Mood for Love', 'year': '2000', 'rating': '8.0'}\n",
      "{'rank': '233', 'title': 'Rush', 'year': '2013', 'rating': '8.0'}\n",
      "{'rank': '234', 'title': 'Into the Wild', 'year': '2007', 'rating': '8.0'}\n",
      "{'rank': '235', 'title': \"Love's a Bitch\", 'year': '2000', 'rating': '8.0'}\n",
      "{'rank': '236', 'title': 'Rocky', 'year': '1976', 'rating': '8.0'}\n",
      "{'rank': '237', 'title': 'Andrei Rublev', 'year': '1966', 'rating': '8.0'}\n",
      "{'rank': '238', 'title': 'Nausicaä of the Valley of the Wind', 'year': '1984', 'rating': '8.0'}\n",
      "{'rank': '239', 'title': 'It Happened One Night', 'year': '1934', 'rating': '8.0'}\n",
      "{'rank': '240', 'title': 'Neon Genesis Evangelion: The End of Evangelion', 'year': '1997', 'rating': '8.0'}\n",
      "{'rank': '241', 'title': 'Before Sunset', 'year': '2004', 'rating': '8.0'}\n",
      "{'rank': '242', 'title': 'The Battle of Algiers', 'year': '1966', 'rating': '8.0'}\n",
      "{'rank': '243', 'title': 'Fanny and Alexander', 'year': '1982', 'rating': '8.0'}\n",
      "{'rank': '244', 'title': 'Three Colors: Red', 'year': '1994', 'rating': '8.0'}\n",
      "{'rank': '245', 'title': 'Paris, Texas', 'year': '1984', 'rating': '8.0'}\n",
      "{'rank': '246', 'title': 'Demon Slayer: Mugen Train', 'year': '2020', 'rating': '8.0'}\n",
      "{'rank': '247', 'title': 'The Princess Bride', 'year': '1987', 'rating': '8.0'}\n",
      "{'rank': '248', 'title': 'Nights of Cabiria', 'year': '1957', 'rating': '8.0'}\n",
      "{'rank': '249', 'title': 'Rififi', 'year': '1955', 'rating': '8.0'}\n",
      "{'rank': '250', 'title': 'Raatchasan', 'year': '2018', 'rating': '8.0'}\n"
     ]
    }
   ],
   "source": [
    "with open(\"data/imdb_top_rated_movies.csv\", \"r\") as file:\n",
    "    csv_dict_reader = csv.DictReader(file)\n",
    "    for row in csv_dict_reader:\n",
    "        print(row)"
   ]
  },
  {
   "cell_type": "code",
   "execution_count": 22,
   "metadata": {
    "slideshow": {
     "slide_type": "subslide"
    }
   },
   "outputs": [
    {
     "name": "stdout",
     "output_type": "stream",
     "text": [
      "{'rank': 1, 'title': 'The Shawshank Redemption', 'year': 1994, 'rating': 9.2}\n",
      "{'rank': 2, 'title': 'The Godfather', 'year': 1972, 'rating': 9.1}\n",
      "{'rank': 3, 'title': 'The Godfather: Part II', 'year': 1974, 'rating': 9.0}\n",
      "{'rank': 4, 'title': 'The Dark Knight', 'year': 2008, 'rating': 9.0}\n",
      "{'rank': 5, 'title': '12 Angry Men', 'year': 1957, 'rating': 8.9}\n",
      "{'rank': 6, 'title': \"Schindler's List\", 'year': 1993, 'rating': 8.9}\n",
      "{'rank': 7, 'title': 'The Lord of the Rings: The Return of the King', 'year': 2003, 'rating': 8.9}\n",
      "{'rank': 8, 'title': 'Pulp Fiction', 'year': 1994, 'rating': 8.8}\n",
      "{'rank': 9, 'title': 'The Good, the Bad and the Ugly', 'year': 1966, 'rating': 8.8}\n",
      "{'rank': 10, 'title': 'The Lord of the Rings: The Fellowship of the Ring', 'year': 2001, 'rating': 8.8}\n",
      "{'rank': 11, 'title': 'Fight Club', 'year': 1999, 'rating': 8.8}\n",
      "{'rank': 12, 'title': 'Forrest Gump', 'year': 1994, 'rating': 8.7}\n",
      "{'rank': 13, 'title': 'Inception', 'year': 2010, 'rating': 8.7}\n",
      "{'rank': 14, 'title': 'The Lord of the Rings: The Two Towers', 'year': 2002, 'rating': 8.7}\n",
      "{'rank': 15, 'title': 'Star Wars: Episode V - The Empire Strikes Back', 'year': 1980, 'rating': 8.7}\n",
      "{'rank': 16, 'title': 'The Matrix', 'year': 1999, 'rating': 8.6}\n",
      "{'rank': 17, 'title': 'Goodfellas', 'year': 1990, 'rating': 8.6}\n",
      "{'rank': 18, 'title': \"One Flew Over the Cuckoo's Nest\", 'year': 1975, 'rating': 8.6}\n",
      "{'rank': 19, 'title': 'Seven Samurai', 'year': 1954, 'rating': 8.6}\n",
      "{'rank': 20, 'title': 'Se7en', 'year': 1995, 'rating': 8.6}\n",
      "{'rank': 21, 'title': 'The Silence of the Lambs', 'year': 1991, 'rating': 8.6}\n",
      "{'rank': 22, 'title': 'City of God', 'year': 2002, 'rating': 8.6}\n",
      "{'rank': 23, 'title': 'Life Is Beautiful', 'year': 1997, 'rating': 8.6}\n",
      "{'rank': 24, 'title': \"It's a Wonderful Life\", 'year': 1946, 'rating': 8.6}\n",
      "{'rank': 25, 'title': 'Star Wars: Episode IV - A New Hope', 'year': 1977, 'rating': 8.6}\n",
      "{'rank': 26, 'title': 'Saving Private Ryan', 'year': 1998, 'rating': 8.5}\n",
      "{'rank': 27, 'title': 'Interstellar', 'year': 2014, 'rating': 8.5}\n",
      "{'rank': 28, 'title': 'Spirited Away', 'year': 2001, 'rating': 8.5}\n",
      "{'rank': 29, 'title': 'The Green Mile', 'year': 1999, 'rating': 8.5}\n",
      "{'rank': 30, 'title': 'Parasite', 'year': 2019, 'rating': 8.5}\n",
      "{'rank': 31, 'title': 'Léon: The Professional', 'year': 1994, 'rating': 8.5}\n",
      "{'rank': 32, 'title': 'Hara-Kiri', 'year': 1962, 'rating': 8.5}\n",
      "{'rank': 33, 'title': 'The Pianist', 'year': 2002, 'rating': 8.5}\n",
      "{'rank': 34, 'title': 'The Usual Suspects', 'year': 1995, 'rating': 8.5}\n",
      "{'rank': 35, 'title': 'Terminator 2: Judgment Day', 'year': 1991, 'rating': 8.5}\n",
      "{'rank': 36, 'title': 'Back to the Future', 'year': 1985, 'rating': 8.5}\n",
      "{'rank': 37, 'title': 'Psycho', 'year': 1960, 'rating': 8.5}\n",
      "{'rank': 38, 'title': 'The Lion King', 'year': 1994, 'rating': 8.5}\n",
      "{'rank': 39, 'title': 'Modern Times', 'year': 1936, 'rating': 8.5}\n",
      "{'rank': 40, 'title': 'American History X', 'year': 1998, 'rating': 8.5}\n",
      "{'rank': 41, 'title': 'City Lights', 'year': 1931, 'rating': 8.5}\n",
      "{'rank': 42, 'title': 'Grave of the Fireflies', 'year': 1988, 'rating': 8.5}\n",
      "{'rank': 43, 'title': 'Whiplash', 'year': 2014, 'rating': 8.5}\n",
      "{'rank': 44, 'title': 'Gladiator', 'year': 2000, 'rating': 8.5}\n",
      "{'rank': 45, 'title': 'The Departed', 'year': 2006, 'rating': 8.5}\n",
      "{'rank': 46, 'title': 'The Intouchables', 'year': 2011, 'rating': 8.5}\n",
      "{'rank': 47, 'title': 'The Prestige', 'year': 2006, 'rating': 8.5}\n",
      "{'rank': 48, 'title': 'Casablanca', 'year': 1942, 'rating': 8.4}\n",
      "{'rank': 49, 'title': 'Once Upon a Time in the West', 'year': 1968, 'rating': 8.4}\n",
      "{'rank': 50, 'title': 'Rear Window', 'year': 1954, 'rating': 8.4}\n",
      "{'rank': 51, 'title': 'Cinema Paradiso', 'year': 1988, 'rating': 8.4}\n",
      "{'rank': 52, 'title': 'Alien', 'year': 1979, 'rating': 8.4}\n",
      "{'rank': 53, 'title': 'Apocalypse Now', 'year': 1979, 'rating': 8.4}\n",
      "{'rank': 54, 'title': 'Memento', 'year': 2000, 'rating': 8.4}\n",
      "{'rank': 55, 'title': 'Indiana Jones and the Raiders of the Lost Ark', 'year': 1981, 'rating': 8.4}\n",
      "{'rank': 56, 'title': 'The Great Dictator', 'year': 1940, 'rating': 8.4}\n",
      "{'rank': 57, 'title': 'The Lives of Others', 'year': 2006, 'rating': 8.4}\n",
      "{'rank': 58, 'title': 'Django Unchained', 'year': 2012, 'rating': 8.4}\n",
      "{'rank': 59, 'title': 'Paths of Glory', 'year': 1957, 'rating': 8.4}\n",
      "{'rank': 60, 'title': '', 'year': 1950, 'rating': 8.4}\n",
      "{'rank': 61, 'title': 'WALL·E', 'year': 2008, 'rating': 8.4}\n",
      "{'rank': 62, 'title': 'Avengers: Infinity War', 'year': 2018, 'rating': 8.4}\n",
      "{'rank': 63, 'title': 'The Shining', 'year': 1980, 'rating': 8.4}\n",
      "{'rank': 64, 'title': 'Witness for the Prosecution', 'year': 1957, 'rating': 8.4}\n",
      "{'rank': 65, 'title': 'Spider-Man: Into the Spider-Verse', 'year': 2018, 'rating': 8.4}\n",
      "{'rank': 66, 'title': 'Strangelove or: How I Learned to Stop Worrying and Love the Bomb ', 'year': 1964, 'rating': 8.4}\n",
      "{'rank': 67, 'title': 'Joker', 'year': 2019, 'rating': 8.3}\n",
      "{'rank': 68, 'title': 'Princess Mononoke', 'year': 1997, 'rating': 8.3}\n",
      "{'rank': 69, 'title': 'Oldboy', 'year': 2003, 'rating': 8.3}\n",
      "{'rank': 70, 'title': '', 'year': 2016, 'rating': 8.3}\n",
      "{'rank': 71, 'title': 'The Dark Knight Rises', 'year': 2012, 'rating': 8.3}\n",
      "{'rank': 72, 'title': 'Once Upon a Time in America', 'year': 1984, 'rating': 8.3}\n",
      "{'rank': 73, 'title': 'Coco', 'year': 2017, 'rating': 8.3}\n",
      "{'rank': 74, 'title': 'Aliens', 'year': 1986, 'rating': 8.3}\n",
      "{'rank': 75, 'title': 'Capharnaüm', 'year': 2018, 'rating': 8.3}\n",
      "{'rank': 76, 'title': 'Avengers: Endgame', 'year': 2019, 'rating': 8.3}\n",
      "{'rank': 77, 'title': 'Das Boot', 'year': 1981, 'rating': 8.3}\n",
      "{'rank': 78, 'title': 'Hamilton', 'year': 2020, 'rating': 8.3}\n",
      "{'rank': 79, 'title': 'High and Low', 'year': 1963, 'rating': 8.3}\n",
      "{'rank': 80, 'title': 'American Beauty', 'year': 1999, 'rating': 8.3}\n",
      "{'rank': 81, 'title': 'Toy Story', 'year': 1995, 'rating': 8.3}\n",
      "{'rank': 82, 'title': '3 Idiots', 'year': 2009, 'rating': 8.3}\n",
      "{'rank': 83, 'title': 'Amadeus', 'year': 1984, 'rating': 8.3}\n",
      "{'rank': 84, 'title': 'Braveheart', 'year': 1995, 'rating': 8.3}\n",
      "{'rank': 85, 'title': 'Inglourious Basterds', 'year': 2009, 'rating': 8.3}\n",
      "{'rank': 86, 'title': 'Good Will Hunting', 'year': 1997, 'rating': 8.3}\n",
      "{'rank': 87, 'title': 'Star Wars: Episode VI - Return of the Jedi', 'year': 1983, 'rating': 8.3}\n",
      "{'rank': 88, 'title': '2001: A Space Odyssey', 'year': 1968, 'rating': 8.3}\n",
      "{'rank': 89, 'title': 'Reservoir Dogs', 'year': 1992, 'rating': 8.3}\n",
      "{'rank': 90, 'title': 'M', 'year': 1931, 'rating': 8.3}\n",
      "{'rank': 91, 'title': 'Like Stars on Earth', 'year': 2007, 'rating': 8.3}\n",
      "{'rank': 92, 'title': 'Vertigo', 'year': 1958, 'rating': 8.3}\n",
      "{'rank': 93, 'title': 'Citizen Kane', 'year': 1941, 'rating': 8.3}\n",
      "{'rank': 94, 'title': 'Come and See', 'year': 1985, 'rating': 8.3}\n",
      "{'rank': 95, 'title': 'The Hunt', 'year': 2012, 'rating': 8.3}\n",
      "{'rank': 96, 'title': 'Requiem for a Dream', 'year': 2000, 'rating': 8.3}\n",
      "{'rank': 97, 'title': \"Singin' in the Rain\", 'year': 1952, 'rating': 8.3}\n",
      "{'rank': 98, 'title': 'North by Northwest', 'year': 1959, 'rating': 8.3}\n",
      "{'rank': 99, 'title': 'Eternal Sunshine of the Spotless Mind', 'year': 2004, 'rating': 8.3}\n",
      "{'rank': 100, 'title': 'Bicycle Thieves', 'year': 1948, 'rating': 8.3}\n",
      "{'rank': 101, 'title': 'Ikiru', 'year': 1952, 'rating': 8.3}\n",
      "{'rank': 102, 'title': 'Dune', 'year': 2021, 'rating': 8.3}\n",
      "{'rank': 103, 'title': 'Pather Panchali', 'year': 1955, 'rating': 8.3}\n",
      "{'rank': 104, 'title': 'Lawrence of Arabia', 'year': 1962, 'rating': 8.2}\n",
      "{'rank': 105, 'title': 'The Kid', 'year': 1921, 'rating': 8.2}\n",
      "{'rank': 106, 'title': 'Full Metal Jacket', 'year': 1987, 'rating': 8.2}\n",
      "{'rank': 107, 'title': 'Dangal', 'year': 2016, 'rating': 8.2}\n",
      "{'rank': 108, 'title': 'The Father', 'year': 2020, 'rating': 8.2}\n",
      "{'rank': 109, 'title': 'The Apartment', 'year': 1960, 'rating': 8.2}\n",
      "{'rank': 110, 'title': 'A Clockwork Orange', 'year': 1971, 'rating': 8.2}\n",
      "{'rank': 111, 'title': 'Metropolis', 'year': 1927, 'rating': 8.2}\n",
      "{'rank': 112, 'title': 'Taxi Driver', 'year': 1976, 'rating': 8.2}\n",
      "{'rank': 113, 'title': 'Incendies', 'year': 2010, 'rating': 8.2}\n",
      "{'rank': 114, 'title': 'Double Indemnity', 'year': 1944, 'rating': 8.2}\n",
      "{'rank': 115, 'title': 'The Sting', 'year': 1973, 'rating': 8.2}\n",
      "{'rank': 116, 'title': 'A Separation', 'year': 2011, 'rating': 8.2}\n",
      "{'rank': 117, 'title': 'Scarface', 'year': 1983, 'rating': 8.2}\n",
      "{'rank': 118, 'title': '1917', 'year': 2019, 'rating': 8.2}\n",
      "{'rank': 119, 'title': 'Snatch', 'year': 2000, 'rating': 8.2}\n",
      "{'rank': 120, 'title': 'Amélie', 'year': 2001, 'rating': 8.2}\n",
      "{'rank': 121, 'title': 'Toy Story 3', 'year': 2010, 'rating': 8.2}\n",
      "{'rank': 122, 'title': 'To Kill a Mockingbird', 'year': 1962, 'rating': 8.2}\n",
      "{'rank': 123, 'title': 'For a Few Dollars More', 'year': 1965, 'rating': 8.2}\n",
      "{'rank': 124, 'title': 'Up', 'year': 2009, 'rating': 8.2}\n",
      "{'rank': 125, 'title': 'Indiana Jones and the Last Crusade', 'year': 1989, 'rating': 8.2}\n",
      "{'rank': 126, 'title': 'Confidential ', 'year': 1997, 'rating': 8.2}\n",
      "{'rank': 127, 'title': 'Heat', 'year': 1995, 'rating': 8.2}\n",
      "{'rank': 128, 'title': 'Yojimbo', 'year': 1961, 'rating': 8.2}\n",
      "{'rank': 129, 'title': 'Rashomon', 'year': 1950, 'rating': 8.2}\n",
      "{'rank': 130, 'title': 'Ran', 'year': 1985, 'rating': 8.2}\n",
      "{'rank': 131, 'title': 'Die Hard', 'year': 1988, 'rating': 8.2}\n",
      "{'rank': 132, 'title': 'Green Book', 'year': 2018, 'rating': 8.2}\n",
      "{'rank': 133, 'title': 'Downfall', 'year': 2004, 'rating': 8.2}\n",
      "{'rank': 134, 'title': 'Monty Python and the Holy Grail', 'year': 1975, 'rating': 8.2}\n",
      "{'rank': 135, 'title': 'All About Eve', 'year': 1950, 'rating': 8.2}\n",
      "{'rank': 136, 'title': 'Some Like It Hot', 'year': 1959, 'rating': 8.2}\n",
      "{'rank': 137, 'title': 'Batman Begins', 'year': 2005, 'rating': 8.2}\n",
      "{'rank': 138, 'title': 'Unforgiven', 'year': 1992, 'rating': 8.2}\n",
      "{'rank': 139, 'title': 'Children of Heaven', 'year': 1997, 'rating': 8.2}\n",
      "{'rank': 140, 'title': \"Howl's Moving Castle\", 'year': 2004, 'rating': 8.2}\n",
      "{'rank': 141, 'title': 'The Wolf of Wall Street', 'year': 2013, 'rating': 8.2}\n",
      "{'rank': 142, 'title': 'Judgment at Nuremberg', 'year': 1961, 'rating': 8.2}\n",
      "{'rank': 143, 'title': 'The Great Escape', 'year': 1963, 'rating': 8.2}\n",
      "{'rank': 144, 'title': 'Casino', 'year': 1995, 'rating': 8.2}\n",
      "{'rank': 145, 'title': 'There Will Be Blood', 'year': 2007, 'rating': 8.2}\n",
      "{'rank': 146, 'title': 'The Treasure of the Sierra Madre', 'year': 1948, 'rating': 8.2}\n",
      "{'rank': 147, 'title': \"Pan's Labyrinth\", 'year': 2006, 'rating': 8.1}\n",
      "{'rank': 148, 'title': 'A Beautiful Mind', 'year': 2001, 'rating': 8.1}\n",
      "{'rank': 149, 'title': 'The Secret in Their Eyes', 'year': 2009, 'rating': 8.1}\n",
      "{'rank': 150, 'title': 'Raging Bull', 'year': 1980, 'rating': 8.1}\n",
      "{'rank': 151, 'title': 'My Neighbor Totoro', 'year': 1988, 'rating': 8.1}\n",
      "{'rank': 152, 'title': 'Chinatown', 'year': 1974, 'rating': 8.1}\n",
      "{'rank': 153, 'title': 'Lock, Stock and Two Smoking Barrels', 'year': 1998, 'rating': 8.1}\n",
      "{'rank': 154, 'title': 'The Gold Rush', 'year': 1925, 'rating': 8.1}\n",
      "{'rank': 155, 'title': 'Shutter Island', 'year': 2010, 'rating': 8.1}\n",
      "{'rank': 156, 'title': 'No Country for Old Men', 'year': 2007, 'rating': 8.1}\n",
      "{'rank': 157, 'title': 'Dial M for Murder', 'year': 1954, 'rating': 8.1}\n",
      "{'rank': 158, 'title': 'The Seventh Seal', 'year': 1957, 'rating': 8.1}\n",
      "{'rank': 159, 'title': 'Three Billboards Outside Ebbing, Missouri', 'year': 2017, 'rating': 8.1}\n",
      "{'rank': 160, 'title': 'The Elephant Man', 'year': 1980, 'rating': 8.1}\n",
      "{'rank': 161, 'title': 'The Thing', 'year': 1982, 'rating': 8.1}\n",
      "{'rank': 162, 'title': 'The Sixth Sense', 'year': 1999, 'rating': 8.1}\n",
      "{'rank': 163, 'title': 'Klaus', 'year': 2019, 'rating': 8.1}\n",
      "{'rank': 164, 'title': 'The Third Man', 'year': 1949, 'rating': 8.1}\n",
      "{'rank': 165, 'title': 'Wild Strawberries', 'year': 1957, 'rating': 8.1}\n",
      "{'rank': 166, 'title': 'V for Vendetta', 'year': 2005, 'rating': 8.1}\n",
      "{'rank': 167, 'title': 'Jurassic Park', 'year': 1993, 'rating': 8.1}\n",
      "{'rank': 168, 'title': 'The Truman Show', 'year': 1998, 'rating': 8.1}\n",
      "{'rank': 169, 'title': 'Inside Out', 'year': 2015, 'rating': 8.1}\n",
      "{'rank': 170, 'title': 'Memories of Murder', 'year': 2003, 'rating': 8.1}\n",
      "{'rank': 171, 'title': 'Blade Runner', 'year': 1982, 'rating': 8.1}\n",
      "{'rank': 172, 'title': 'Trainspotting', 'year': 1996, 'rating': 8.1}\n",
      "{'rank': 173, 'title': 'The Bridge on the River Kwai', 'year': 1957, 'rating': 8.1}\n",
      "{'rank': 174, 'title': 'Fargo', 'year': 1996, 'rating': 8.1}\n",
      "{'rank': 175, 'title': 'Warrior', 'year': 2011, 'rating': 8.1}\n",
      "{'rank': 176, 'title': 'Finding Nemo', 'year': 2003, 'rating': 8.1}\n",
      "{'rank': 177, 'title': '1 ', 'year': 2003, 'rating': 8.1}\n",
      "{'rank': 178, 'title': 'Gone with the Wind', 'year': 1939, 'rating': 8.1}\n",
      "{'rank': 179, 'title': 'Z', 'year': 1969, 'rating': 8.1}\n",
      "{'rank': 180, 'title': 'Tokyo Story', 'year': 1953, 'rating': 8.1}\n",
      "{'rank': 181, 'title': 'My Father and My Son', 'year': 2005, 'rating': 8.1}\n",
      "{'rank': 182, 'title': 'On the Waterfront', 'year': 1954, 'rating': 8.1}\n",
      "{'rank': 183, 'title': 'Stalker', 'year': 1979, 'rating': 8.1}\n",
      "{'rank': 184, 'title': 'Wild Tales', 'year': 2014, 'rating': 8.1}\n",
      "{'rank': 185, 'title': '', 'year': 1924, 'rating': 8.1}\n",
      "{'rank': 186, 'title': 'The General', 'year': 1926, 'rating': 8.1}\n",
      "{'rank': 187, 'title': 'The Deer Hunter', 'year': 1978, 'rating': 8.1}\n",
      "{'rank': 188, 'title': 'Gran Torino', 'year': 2008, 'rating': 8.1}\n",
      "{'rank': 189, 'title': 'Persona', 'year': 1966, 'rating': 8.1}\n",
      "{'rank': 190, 'title': 'The Grand Budapest Hotel', 'year': 2014, 'rating': 8.1}\n",
      "{'rank': 191, 'title': 'Prisoners', 'year': 2013, 'rating': 8.1}\n",
      "{'rank': 192, 'title': 'Before Sunrise', 'year': 1995, 'rating': 8.1}\n",
      "{'rank': 193, 'title': 'Mary and Max', 'year': 2009, 'rating': 8.1}\n",
      "{'rank': 194, 'title': 'Smith Goes to Washington ', 'year': 1939, 'rating': 8.1}\n",
      "{'rank': 195, 'title': 'Room', 'year': 2015, 'rating': 8.1}\n",
      "{'rank': 196, 'title': 'In the Name of the Father', 'year': 1993, 'rating': 8.1}\n",
      "{'rank': 197, 'title': 'Catch Me If You Can', 'year': 2002, 'rating': 8.1}\n",
      "{'rank': 198, 'title': 'Barry Lyndon', 'year': 1975, 'rating': 8.1}\n",
      "{'rank': 199, 'title': 'Gone Girl', 'year': 2014, 'rating': 8.1}\n",
      "{'rank': 200, 'title': 'Hacksaw Ridge', 'year': 2016, 'rating': 8.1}\n",
      "{'rank': 201, 'title': 'Andhadhun', 'year': 2018, 'rating': 8.1}\n",
      "{'rank': 202, 'title': 'The Passion of Joan of Arc', 'year': 1928, 'rating': 8.1}\n",
      "{'rank': 203, 'title': 'To Be or Not to Be', 'year': 1942, 'rating': 8.1}\n",
      "{'rank': 204, 'title': 'Ford v Ferrari', 'year': 2019, 'rating': 8.1}\n",
      "{'rank': 205, 'title': '12 Years a Slave', 'year': 2013, 'rating': 8.1}\n",
      "{'rank': 206, 'title': 'The Big Lebowski', 'year': 1998, 'rating': 8.1}\n",
      "{'rank': 207, 'title': 'How to Train Your Dragon', 'year': 2010, 'rating': 8.1}\n",
      "{'rank': 208, 'title': 'Mad Max: Fury Road', 'year': 2015, 'rating': 8.1}\n",
      "{'rank': 209, 'title': 'Dead Poets Society', 'year': 1989, 'rating': 8.1}\n",
      "{'rank': 210, 'title': 'Autumn Sonata', 'year': 1978, 'rating': 8.1}\n",
      "{'rank': 211, 'title': 'Ben-Hur', 'year': 1959, 'rating': 8.1}\n",
      "{'rank': 212, 'title': 'Million Dollar Baby', 'year': 2004, 'rating': 8.1}\n",
      "{'rank': 213, 'title': 'The Wages of Fear', 'year': 1953, 'rating': 8.1}\n",
      "{'rank': 214, 'title': 'Harry Potter and the Deathly Hallows: Part 2', 'year': 2011, 'rating': 8.1}\n",
      "{'rank': 215, 'title': 'Stand by Me', 'year': 1986, 'rating': 8.1}\n",
      "{'rank': 216, 'title': 'The Handmaiden', 'year': 2016, 'rating': 8.1}\n",
      "{'rank': 217, 'title': 'Network', 'year': 1976, 'rating': 8.1}\n",
      "{'rank': 218, 'title': 'Logan', 'year': 2017, 'rating': 8.1}\n",
      "{'rank': 219, 'title': 'Cool Hand Luke', 'year': 1967, 'rating': 8.1}\n",
      "{'rank': 220, 'title': 'The 400 Blows', 'year': 1959, 'rating': 8.1}\n",
      "{'rank': 221, 'title': 'Gangs of Wasseypur', 'year': 2012, 'rating': 8.0}\n",
      "{'rank': 222, 'title': \"Hachi: A Dog's Tale\", 'year': 2009, 'rating': 8.0}\n",
      "{'rank': 223, 'title': 'La Haine', 'year': 1995, 'rating': 8.0}\n",
      "{'rank': 224, 'title': 'Platoon', 'year': 1986, 'rating': 8.0}\n",
      "{'rank': 225, 'title': 'The Bandit', 'year': 1996, 'rating': 8.0}\n",
      "{'rank': 226, 'title': 'Spotlight', 'year': 2015, 'rating': 8.0}\n",
      "{'rank': 227, 'title': 'A Silent Voice: The Movie', 'year': 2016, 'rating': 8.0}\n",
      "{'rank': 228, 'title': \"Monty Python's Life of Brian\", 'year': 1979, 'rating': 8.0}\n",
      "{'rank': 229, 'title': 'Rebecca', 'year': 1940, 'rating': 8.0}\n",
      "{'rank': 230, 'title': '', 'year': 2001, 'rating': 8.0}\n",
      "{'rank': 231, 'title': 'Hotel Rwanda', 'year': 2004, 'rating': 8.0}\n",
      "{'rank': 232, 'title': 'In the Mood for Love', 'year': 2000, 'rating': 8.0}\n",
      "{'rank': 233, 'title': 'Rush', 'year': 2013, 'rating': 8.0}\n",
      "{'rank': 234, 'title': 'Into the Wild', 'year': 2007, 'rating': 8.0}\n",
      "{'rank': 235, 'title': \"Love's a Bitch\", 'year': 2000, 'rating': 8.0}\n",
      "{'rank': 236, 'title': 'Rocky', 'year': 1976, 'rating': 8.0}\n",
      "{'rank': 237, 'title': 'Andrei Rublev', 'year': 1966, 'rating': 8.0}\n",
      "{'rank': 238, 'title': 'Nausicaä of the Valley of the Wind', 'year': 1984, 'rating': 8.0}\n",
      "{'rank': 239, 'title': 'It Happened One Night', 'year': 1934, 'rating': 8.0}\n",
      "{'rank': 240, 'title': 'Neon Genesis Evangelion: The End of Evangelion', 'year': 1997, 'rating': 8.0}\n",
      "{'rank': 241, 'title': 'Before Sunset', 'year': 2004, 'rating': 8.0}\n",
      "{'rank': 242, 'title': 'The Battle of Algiers', 'year': 1966, 'rating': 8.0}\n",
      "{'rank': 243, 'title': 'Fanny and Alexander', 'year': 1982, 'rating': 8.0}\n",
      "{'rank': 244, 'title': 'Three Colors: Red', 'year': 1994, 'rating': 8.0}\n",
      "{'rank': 245, 'title': 'Paris, Texas', 'year': 1984, 'rating': 8.0}\n",
      "{'rank': 246, 'title': 'Demon Slayer: Mugen Train', 'year': 2020, 'rating': 8.0}\n",
      "{'rank': 247, 'title': 'The Princess Bride', 'year': 1987, 'rating': 8.0}\n",
      "{'rank': 248, 'title': 'Nights of Cabiria', 'year': 1957, 'rating': 8.0}\n",
      "{'rank': 249, 'title': 'Rififi', 'year': 1955, 'rating': 8.0}\n",
      "{'rank': 250, 'title': 'Raatchasan', 'year': 2018, 'rating': 8.0}\n"
     ]
    }
   ],
   "source": [
    "with open(\"data/imdb_top_rated_movies.json\", \"r\") as file:\n",
    "    list_of_dicts = json.load(file)\n",
    "for row in list_of_dicts:\n",
    "    print(row)"
   ]
  },
  {
   "cell_type": "markdown",
   "metadata": {
    "slideshow": {
     "slide_type": "slide"
    }
   },
   "source": [
    "## Environment and Module Management"
   ]
  },
  {
   "cell_type": "markdown",
   "metadata": {
    "slideshow": {
     "slide_type": "subslide"
    }
   },
   "source": [
    "## What is environment management?\n",
    "\n",
    "Python applications will often use packages and modules that do not come as part of the standard library. Applications will sometimes need a specific version of a library. This means it may not be possible for one Python installation to meet the requirements of every application."
   ]
  },
  {
   "cell_type": "markdown",
   "metadata": {
    "slideshow": {
     "slide_type": "subslide"
    }
   },
   "source": [
    "## The solution\n",
    "\n",
    "To create a virtual environment, a self-contained directory tree that contains a Python installation for a particular version of Python, plus a number of additional packages."
   ]
  },
  {
   "cell_type": "markdown",
   "metadata": {
    "slideshow": {
     "slide_type": "subslide"
    }
   },
   "source": [
    "## What is module management?\n",
    "\n",
    "A library quickly installs, runs, updates, and even uninstalls modules and their dependencies."
   ]
  },
  {
   "cell_type": "markdown",
   "metadata": {
    "slideshow": {
     "slide_type": "subslide"
    }
   },
   "source": [
    "## The standard environment and module management tools\n",
    "\n",
    "- Environment manager: `venv`：<https://docs.python.org/3/tutorial/venv.html>\n",
    "- Module manager: `pip`：<https://pip.pypa.io/en/stable>"
   ]
  },
  {
   "cell_type": "markdown",
   "metadata": {
    "slideshow": {
     "slide_type": "subslide"
    }
   },
   "source": [
    "## The third party environment and module management tool\n",
    "\n",
    "- `Conda` as a manager for both environments and modules."
   ]
  },
  {
   "cell_type": "markdown",
   "metadata": {
    "slideshow": {
     "slide_type": "subslide"
    }
   },
   "source": [
    "## What is Conda?\n",
    "\n",
    "Conda is an open source package management system and environment management system that runs on Windows, macOS and Linux. Conda quickly installs, runs and updates packages and their dependencies. Conda easily creates, saves, loads and switches between environments on your local computer. It was created for Python programs, but it can package and distribute software for any language."
   ]
  },
  {
   "cell_type": "markdown",
   "metadata": {
    "slideshow": {
     "slide_type": "subslide"
    }
   },
   "source": [
    "## Easiest way to acquire conda\n",
    "\n",
    "- Conda comes with [Miniconda](https://docs.conda.io/en/latest/miniconda.html)\n",
    "- Why choosing Miniconda over Anaconda? Lean."
   ]
  },
  {
   "cell_type": "markdown",
   "metadata": {
    "slideshow": {
     "slide_type": "subslide"
    }
   },
   "source": [
    "## Where to run conda?\n",
    "\n",
    "- Windows users: Use Anaconda Prompt or Anaconda PowerShell comes with Miniconda installation.\n",
    "- macOS users: Use Terminal after Miniconda is installed."
   ]
  },
  {
   "cell_type": "markdown",
   "metadata": {
    "slideshow": {
     "slide_type": "subslide"
    }
   },
   "source": [
    "## Command to validate conda installation and version\n",
    "\n",
    "```bash\n",
    "# run in command line, do not run in jupyter notebooks.\n",
    "(base) conda --version\n",
    "```"
   ]
  },
  {
   "cell_type": "markdown",
   "metadata": {
    "slideshow": {
     "slide_type": "subslide"
    }
   },
   "source": [
    "## Command to install a specific module\n",
    "\n",
    "```bash\n",
    "# run in command line, do not run in jupyter notebooks.\n",
    "(base) conda install jupyter # or run pip install jupyter\n",
    "```"
   ]
  },
  {
   "cell_type": "markdown",
   "metadata": {
    "slideshow": {
     "slide_type": "subslide"
    }
   },
   "source": [
    "## Command to validate available environments\n",
    "\n",
    "```bash\n",
    "# run in command line, do not run in jupyter notebooks.\n",
    "(base) conda env list\n",
    "```"
   ]
  },
  {
   "cell_type": "markdown",
   "metadata": {
    "slideshow": {
     "slide_type": "subslide"
    }
   },
   "source": [
    "## Command to build a new and isolated environment\n",
    "\n",
    "We can validate available environments after the environment is built.\n",
    "\n",
    "```bash\n",
    "# run in command line, do not run in jupyter notebooks.\n",
    "(base) conda create --name prgda python=3.9.7\n",
    "```"
   ]
  },
  {
   "cell_type": "markdown",
   "metadata": {
    "slideshow": {
     "slide_type": "subslide"
    }
   },
   "source": [
    "## Command to activate an environment\n",
    "\n",
    "```bash\n",
    "# run in command line, do not run in jupyter notebooks.\n",
    "(base) conda activate prgda\n",
    "```"
   ]
  },
  {
   "cell_type": "markdown",
   "metadata": {
    "slideshow": {
     "slide_type": "subslide"
    }
   },
   "source": [
    "## Command to install some third-party modules in current environment\n",
    "\n",
    "```bash\n",
    "# run in command line, do not run in jupyter notebooks.\n",
    "(prgda) conda install ipykernel # or run pip install ipykernel\n",
    "```"
   ]
  },
  {
   "cell_type": "markdown",
   "metadata": {
    "slideshow": {
     "slide_type": "subslide"
    }
   },
   "source": [
    "## Command to validate kernels of Jupyter Notebook\n",
    "\n",
    "```bash\n",
    "# run in command line, do not run in jupyter notebooks.\n",
    "(prgda) jupyter kernelspec list\n",
    "```"
   ]
  },
  {
   "cell_type": "markdown",
   "metadata": {
    "slideshow": {
     "slide_type": "subslide"
    }
   },
   "source": [
    "## Command to add new kernels for Jupyter Notebook\n",
    "\n",
    "```bash\n",
    "# run in command line, do not run in jupyter notebooks.\n",
    "(prgda) python -m ipykernel install --user --name prgda --display-name \"Programming and Data Analysis\"\n",
    "```"
   ]
  },
  {
   "cell_type": "markdown",
   "metadata": {
    "slideshow": {
     "slide_type": "subslide"
    }
   },
   "source": [
    "## Command to remove kernels of Jupyter Notebook\n",
    "\n",
    "```bash\n",
    "# run in command line, do not run in jupyter notebooks.\n",
    "(prgda) jupyter kernelspec remove prgda\n",
    "```"
   ]
  },
  {
   "cell_type": "markdown",
   "metadata": {
    "slideshow": {
     "slide_type": "subslide"
    }
   },
   "source": [
    "## Command to deactivate current environment and get back to base\n",
    "\n",
    "```bash\n",
    "# run in command line, do not run in jupyter notebooks.\n",
    "(prgda) conda deactivate\n",
    "```"
   ]
  },
  {
   "cell_type": "markdown",
   "metadata": {
    "slideshow": {
     "slide_type": "subslide"
    }
   },
   "source": [
    "## Command to remove an environment\n",
    "\n",
    "```bash\n",
    "# run in command line, do not run in jupyter notebooks.\n",
    "conda remove --name prgda --all\n",
    "```"
   ]
  },
  {
   "cell_type": "markdown",
   "metadata": {
    "slideshow": {
     "slide_type": "subslide"
    }
   },
   "source": [
    "## How to duplicate the environment of assignments?\n",
    "\n",
    "- Download the `environment.yml` file in assignment to your working directory.\n",
    "- Command to create an environment based on it.\n",
    "\n",
    "```bash\n",
    "# run in command line, do not run in jupyter notebooks.\n",
    "conda env create --file environment.yml\n",
    "```"
   ]
  }
 ],
 "metadata": {
  "celltoolbar": "Slideshow",
  "kernelspec": {
   "display_name": "Python 3",
   "language": "python",
   "name": "python3"
  },
  "language_info": {
   "codemirror_mode": {
    "name": "ipython",
    "version": 3
   },
   "file_extension": ".py",
   "mimetype": "text/x-python",
   "name": "python",
   "nbconvert_exporter": "python",
   "pygments_lexer": "ipython3",
   "version": "3.8.5"
  }
 },
 "nbformat": 4,
 "nbformat_minor": 4
}
